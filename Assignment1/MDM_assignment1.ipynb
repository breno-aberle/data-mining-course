{
 "cells": [
  {
   "cell_type": "markdown",
   "metadata": {
    "toc": true
   },
   "source": [
    "<h1>Table of Contents<span class=\"tocSkip\"></span></h1>\n",
    "<div class=\"toc\"><ul class=\"toc-item\"><li><span><a href=\"#Exercise-1\" data-toc-modified-id=\"Exercise-1-1\"><span class=\"toc-item-num\">1&nbsp;&nbsp;</span>Exercise 1</a></span><ul class=\"toc-item\"><li><span><a href=\"#Exercise-1-a)\" data-toc-modified-id=\"Exercise-1-a)-1.1\"><span class=\"toc-item-num\">1.1&nbsp;&nbsp;</span>Exercise 1 a)</a></span></li><li><span><a href=\"#Exercise-1-b)\" data-toc-modified-id=\"Exercise-1-b)-1.2\"><span class=\"toc-item-num\">1.2&nbsp;&nbsp;</span>Exercise 1 b)</a></span></li></ul></li><li><span><a href=\"#Exercise-2\" data-toc-modified-id=\"Exercise-2-2\"><span class=\"toc-item-num\">2&nbsp;&nbsp;</span>Exercise 2</a></span><ul class=\"toc-item\"><li><span><a href=\"#Exercise-2-a)\" data-toc-modified-id=\"Exercise-2-a)-2.1\"><span class=\"toc-item-num\">2.1&nbsp;&nbsp;</span>Exercise 2 a)</a></span></li><li><span><a href=\"#Exercise-2-b)\" data-toc-modified-id=\"Exercise-2-b)-2.2\"><span class=\"toc-item-num\">2.2&nbsp;&nbsp;</span>Exercise 2 b)</a></span></li></ul></li><li><span><a href=\"#Exercise-3\" data-toc-modified-id=\"Exercise-3-3\"><span class=\"toc-item-num\">3&nbsp;&nbsp;</span>Exercise 3</a></span></li><li><span><a href=\"#Exercise-4\" data-toc-modified-id=\"Exercise-4-4\"><span class=\"toc-item-num\">4&nbsp;&nbsp;</span>Exercise 4</a></span><ul class=\"toc-item\"><li><span><a href=\"#Exercise-4-a)\" data-toc-modified-id=\"Exercise-4-a)-4.1\"><span class=\"toc-item-num\">4.1&nbsp;&nbsp;</span>Exercise 4 a)</a></span></li><li><span><a href=\"#Exercise-4-b)\" data-toc-modified-id=\"Exercise-4-b)-4.2\"><span class=\"toc-item-num\">4.2&nbsp;&nbsp;</span>Exercise 4 b)</a></span></li><li><span><a href=\"#Exercise-4-c)\" data-toc-modified-id=\"Exercise-4-c)-4.3\"><span class=\"toc-item-num\">4.3&nbsp;&nbsp;</span>Exercise 4 c)</a></span></li><li><span><a href=\"#Exercise-4-d)\" data-toc-modified-id=\"Exercise-4-d)-4.4\"><span class=\"toc-item-num\">4.4&nbsp;&nbsp;</span>Exercise 4 d)</a></span></li></ul></li><li><span><a href=\"#Exercise-5\" data-toc-modified-id=\"Exercise-5-5\"><span class=\"toc-item-num\">5&nbsp;&nbsp;</span>Exercise 5</a></span><ul class=\"toc-item\"><li><span><a href=\"#Exercise-5-a)\" data-toc-modified-id=\"Exercise-5-a)-5.1\"><span class=\"toc-item-num\">5.1&nbsp;&nbsp;</span>Exercise 5 a)</a></span></li><li><span><a href=\"#Exercise-5-b)\" data-toc-modified-id=\"Exercise-5-b)-5.2\"><span class=\"toc-item-num\">5.2&nbsp;&nbsp;</span>Exercise 5 b)</a></span></li><li><span><a href=\"#Exercise-5-c)\" data-toc-modified-id=\"Exercise-5-c)-5.3\"><span class=\"toc-item-num\">5.3&nbsp;&nbsp;</span>Exercise 5 c)</a></span></li><li><span><a href=\"#Exercise-5-d)\" data-toc-modified-id=\"Exercise-5-d)-5.4\"><span class=\"toc-item-num\">5.4&nbsp;&nbsp;</span>Exercise 5 d)</a></span></li></ul></li></ul></div>"
   ]
  },
  {
   "cell_type": "code",
   "execution_count": 1,
   "metadata": {},
   "outputs": [],
   "source": [
    "%load_ext autoreload\n",
    "%autoreload 2\n",
    "\n",
    "from utils import *\n",
    "\n",
    "# import libraries\n",
    "import numpy as np\n",
    "import pandas as pd\n",
    "import matplotlib.pyplot as plt\n",
    "import seaborn as sns\n",
    "from sklearn.cluster import KMeans\n",
    "from sklearn.cluster import AgglomerativeClustering\n",
    "from scipy.cluster.hierarchy import linkage # Agglomerative Clustering of scipy library\n",
    "from scipy.cluster.hierarchy import dendrogram # to visualize Agglomerative Clustering\n",
    "from sklearn.metrics import silhouette_score\n",
    "from sklearn.metrics import calinski_harabasz_score\n",
    "from sklearn.metrics import davies_bouldin_score\n",
    "from sklearn.preprocessing import StandardScaler\n",
    "from sklearn.preprocessing import MinMaxScaler\n",
    "from scipy.spatial import distance\n",
    "from sklearn.decomposition import PCA"
   ]
  },
  {
   "cell_type": "markdown",
   "metadata": {},
   "source": [
    "## Exercise 1"
   ]
  },
  {
   "cell_type": "code",
   "execution_count": 2,
   "metadata": {},
   "outputs": [
    {
     "data": {
      "text/plain": [
       "(481, 27)"
      ]
     },
     "execution_count": 2,
     "metadata": {},
     "output_type": "execute_result"
    }
   ],
   "source": [
    "# import dataset\n",
    "nba_data = pd.read_csv('nba2013.csv') # 481 rows (NBA players) and 31 features\n",
    "\n",
    "# prune out non-numerical features, since only numerical features will be needed in the following tasks\n",
    "df = nba_data._get_numeric_data()\n",
    "\n",
    "# mean imputation: replace missing values with the mean of the feature column\n",
    "df_imputed = df.fillna(df.mean())\n",
    "\n",
    "# convert the dataframe to numpy array for calculations with libraries like scikit-learn\n",
    "data = df_imputed.to_numpy()\n",
    "data.shape"
   ]
  },
  {
   "cell_type": "markdown",
   "metadata": {},
   "source": [
    "### Exercise 1 a)"
   ]
  },
  {
   "cell_type": "markdown",
   "metadata": {},
   "source": [
    "<div class=\"alert alert-danger\">\n",
    "<b>Task:</b> \n",
    "\n",
    "Perform K-means and evaluate the goodness of clustering using Silhouette Coefficient, Calinski Harabasz and Davies-Bouldin indices. Try the following values of K: a) K = 10, b) K = 5, c) K = 2.\n",
    "</div>"
   ]
  },
  {
   "cell_type": "code",
   "execution_count": 3,
   "metadata": {},
   "outputs": [],
   "source": [
    "# preprocessing\n",
    "scaler = StandardScaler() # standardization\n",
    "data_scaled = scaler.fit_transform(data)"
   ]
  },
  {
   "cell_type": "code",
   "execution_count": 4,
   "metadata": {},
   "outputs": [],
   "source": [
    "# K-means\n",
    "# parameters\n",
    "number_of_clusters = [10,5,2] # number of clusters\n",
    "\n",
    "# keep track of the metrics\n",
    "silhouette_scores = [] \n",
    "calinski_harabasz_scores = []\n",
    "davies_bouldin_scores = []\n",
    "\n",
    "# Perform k-means\n",
    "for k in number_of_clusters:\n",
    "    kmeans = KMeans(init=\"random\", n_clusters=k, n_init=4, random_state=42)\n",
    "    kmeans.fit(data_scaled)\n",
    "    \n",
    "    score_silhouette = silhouette_score(data_scaled, kmeans.labels_)\n",
    "    silhouette_scores.append(score_silhouette)\n",
    "    \n",
    "    score_calinski = calinski_harabasz_score(data_scaled, kmeans.labels_)\n",
    "    calinski_harabasz_scores.append(score_calinski)\n",
    "    \n",
    "    score_davies = davies_bouldin_score(data_scaled, kmeans.labels_)\n",
    "    davies_bouldin_scores.append(score_davies)"
   ]
  },
  {
   "cell_type": "code",
   "execution_count": 5,
   "metadata": {},
   "outputs": [
    {
     "name": "stdout",
     "output_type": "stream",
     "text": [
      "silhouette_scores:  [0.15976403362286198, 0.2417537930643486, 0.35600530850912393]\n",
      "calinski_harabasz_scores:  [126.61825224664759, 185.1022096711424, 326.3266810644218]\n",
      "davies_bouldin_scores:  [1.5535139732359458, 1.27673694947758, 1.1222773594168158]\n"
     ]
    }
   ],
   "source": [
    "# Print scores\n",
    "print(\"silhouette_scores: \", silhouette_scores)\n",
    "print(\"calinski_harabasz_scores: \", calinski_harabasz_scores)\n",
    "print(\"davies_bouldin_scores: \", davies_bouldin_scores)"
   ]
  },
  {
   "cell_type": "markdown",
   "metadata": {},
   "source": [
    "### Exercise 1 b)"
   ]
  },
  {
   "cell_type": "markdown",
   "metadata": {},
   "source": [
    "<div class=\"alert alert-success\">\n",
    "<b>Question</b> \n",
    "    \n",
    "* What is an optimal K and why?\n",
    "</div>"
   ]
  },
  {
   "cell_type": "markdown",
   "metadata": {},
   "source": [
    "<b>Silhouette:</b> The silhouette value is a measure of how similar an object is to its own cluster (cohesion) compared to other clusters (separation). The silhouette ranges from −1 to +1, where a high value indicates that the object is well matched to its own cluster and poorly matched to neighboring clusters.\n",
    "\n",
    "<b>Calinski-Harabasz:</b> The Calinski-Harabasz index also known as the Variance Ratio Criterion, is the ratio of the sum of between-clusters dispersion and of inter-cluster dispersion for all clusters, the higher the score , the better the performances.\n",
    "\n",
    "<b>Davies-Bouldin Index:</b> This index signifies the average ‘similarity’ between clusters, where the similarity is a measure that compares the distance between clusters with the size of the clusters themselves. A lower Davies-Bouldin index relates to a model with better separation between the clusters.\n",
    "\n",
    "The optimal K is K*=2 because for K=2. For the Silhouette scores as well as the Calinski Harabsz a higher score is better and for the Davies-Bouldin Index the lower the better."
   ]
  },
  {
   "cell_type": "markdown",
   "metadata": {},
   "source": [
    "## Exercise 2"
   ]
  },
  {
   "cell_type": "markdown",
   "metadata": {},
   "source": [
    "### Exercise 2 a)"
   ]
  },
  {
   "cell_type": "code",
   "execution_count": 6,
   "metadata": {},
   "outputs": [],
   "source": [
    "# Hierarchical agglomerative clustering\n",
    "# parameters\n",
    "metrics = [\"single\", \"complete\", \"average\"]\n",
    "\n",
    "# keep track of the metrics\n",
    "silhouette_scores_dict = {} \n",
    "calinski_harabasz_scores_dict = {}\n",
    "davies_bouldin_scores_dict = {}\n",
    "\n",
    "# Perform k-means\n",
    "for metric in metrics:\n",
    "    agglo_clustering = AgglomerativeClustering(linkage=metric)\n",
    "    agglo_clustering.fit(data_scaled)\n",
    "    \n",
    "    score_silhouette = silhouette_score(data_scaled, agglo_clustering.labels_)\n",
    "    silhouette_scores_dict[metric]=score_silhouette\n",
    "    #silhouette_scores.append(score_silhouette)\n",
    "    \n",
    "    score_calinski = calinski_harabasz_score(data_scaled, agglo_clustering.labels_)\n",
    "    calinski_harabasz_scores_dict[metric]=score_calinski\n",
    "    #calinski_harabasz_scores.append(score_calinski)\n",
    "    \n",
    "    score_davies = davies_bouldin_score(data_scaled, agglo_clustering.labels_)\n",
    "    davies_bouldin_scores_dict[metric]=score_davies\n",
    "    #davies_bouldin_scores.append(score_davies)"
   ]
  },
  {
   "cell_type": "code",
   "execution_count": 7,
   "metadata": {},
   "outputs": [
    {
     "name": "stdout",
     "output_type": "stream",
     "text": [
      "silhouette_scores:  {'single': 0.4439446759422951, 'complete': 0.3728884620458947, 'average': 0.4487263729077788}\n",
      "calinski_harabasz_scores:  {'single': 8.926838505387817, 'complete': 200.63621230924886, 'average': 25.08409651528349}\n",
      "davies_bouldin_scores:  {'single': 0.5991592223789288, 'complete': 1.1377644884822007, 'average': 1.0006977248721713}\n"
     ]
    }
   ],
   "source": [
    "# Print scores\n",
    "print(\"silhouette_scores: \", silhouette_scores_dict)\n",
    "print(\"calinski_harabasz_scores: \", calinski_harabasz_scores_dict)\n",
    "print(\"davies_bouldin_scores: \", davies_bouldin_scores_dict)"
   ]
  },
  {
   "cell_type": "code",
   "execution_count": 8,
   "metadata": {},
   "outputs": [
    {
     "data": {
      "image/png": "[encoded data removed]",
      "text/plain": [
       "<Figure size 360x288 with 1 Axes>"
      ]
     },
     "metadata": {
      "needs_background": "light"
     },
     "output_type": "display_data"
    },
    {
     "data": {
      "image/png": "[encoded data removed]",
      "text/plain": [
       "<Figure size 360x288 with 1 Axes>"
      ]
     },
     "metadata": {
      "needs_background": "light"
     },
     "output_type": "display_data"
    },
    {
     "data": {
      "image/png": "[encoded data removed]",
      "text/plain": [
       "<Figure size 360x288 with 1 Axes>"
      ]
     },
     "metadata": {
      "needs_background": "light"
     },
     "output_type": "display_data"
    },
    {
     "data": {
      "image/png": "[encoded data removed]",
      "text/plain": [
       "<Figure size 360x288 with 1 Axes>"
      ]
     },
     "metadata": {
      "needs_background": "light"
     },
     "output_type": "display_data"
    }
   ],
   "source": [
    "# with scipy library\n",
    "Z = linkage(data_scaled, 'single')\n",
    "fig = plt.figure(figsize=(5, 4))\n",
    "dn = dendrogram(Z)\n",
    "\n",
    "Z = linkage(data_scaled, 'complete')\n",
    "fig = plt.figure(figsize=(5, 4))\n",
    "dn = dendrogram(Z)\n",
    "\n",
    "Z = linkage(data_scaled, 'average')\n",
    "fig = plt.figure(figsize=(5, 4))\n",
    "dn = dendrogram(Z)\n",
    "\n",
    "Z = linkage(data_scaled, 'centroid')\n",
    "fig = plt.figure(figsize=(5, 4))\n",
    "dn = dendrogram(Z)\n",
    "\n",
    "plt.show()"
   ]
  },
  {
   "cell_type": "markdown",
   "metadata": {},
   "source": [
    "### Exercise 2 b)"
   ]
  },
  {
   "cell_type": "markdown",
   "metadata": {},
   "source": [
    "<div class=\"alert alert-success\">\n",
    "<b>Question</b> \n",
    "    \n",
    "* What is the optimal metric for this data and why?\n",
    "</div>"
   ]
  },
  {
   "cell_type": "markdown",
   "metadata": {},
   "source": [
    "The best metric for this data is 'complete'. It has a very good Calinski Harabasz Score. If you compare the metric with the other scores they are either very similar or slightly better or worse. Furthermore, in the plotted figures you can see, that for 'complete' that the clusters are more balanced."
   ]
  },
  {
   "cell_type": "markdown",
   "metadata": {},
   "source": [
    "## Exercise 3"
   ]
  },
  {
   "cell_type": "code",
   "execution_count": 9,
   "metadata": {},
   "outputs": [
    {
     "name": "stdout",
     "output_type": "stream",
     "text": [
      "silhouette_scores:  {'single': 0.4439446759422951, 'complete': 0.3728884620458947, 'average': 0.4487263729077788}\n",
      "calinski_harabasz_scores:  {'single': 8.926838505387817, 'complete': 200.63621230924883, 'average': 25.08409651528349}\n",
      "davies_bouldin_scores:  {'single': 0.5991592223789288, 'complete': 1.137764488482201, 'average': 1.0006977248721711}\n"
     ]
    }
   ],
   "source": [
    "# shuffle data set\n",
    "np.random.shuffle(data_scaled)\n",
    "\n",
    "# Hierarchical agglomerative clustering\n",
    "# parameters\n",
    "metrics = [\"single\", \"complete\", \"average\"]\n",
    "\n",
    "# keep track of the metrics\n",
    "silhouette_scores_dict = {} \n",
    "calinski_harabasz_scores_dict = {}\n",
    "davies_bouldin_scores_dict = {}\n",
    "\n",
    "# Perform k-means\n",
    "for metric in metrics:\n",
    "    agglo_clustering = AgglomerativeClustering(linkage=metric)\n",
    "    agglo_clustering.fit(data_scaled)\n",
    "    \n",
    "    score_silhouette = silhouette_score(data_scaled, agglo_clustering.labels_)\n",
    "    silhouette_scores_dict[metric]=score_silhouette\n",
    "    #silhouette_scores.append(score_silhouette)\n",
    "    \n",
    "    score_calinski = calinski_harabasz_score(data_scaled, agglo_clustering.labels_)\n",
    "    calinski_harabasz_scores_dict[metric]=score_calinski\n",
    "    #calinski_harabasz_scores.append(score_calinski)\n",
    "    \n",
    "    score_davies = davies_bouldin_score(data_scaled, agglo_clustering.labels_)\n",
    "    davies_bouldin_scores_dict[metric]=score_davies\n",
    "    #davies_bouldin_scores.append(score_davies)\n",
    "    \n",
    "# Print scores\n",
    "print(\"silhouette_scores: \", silhouette_scores_dict)\n",
    "print(\"calinski_harabasz_scores: \", calinski_harabasz_scores_dict)\n",
    "print(\"davies_bouldin_scores: \", davies_bouldin_scores_dict)"
   ]
  },
  {
   "cell_type": "markdown",
   "metadata": {},
   "source": [
    "<div class=\"alert alert-success\">\n",
    "<b>Question</b> \n",
    "    \n",
    "* What do you observe? \n",
    "* Can you make any conclusions how robust different linkage metrics are to data order?\n",
    "</div>"
   ]
  },
  {
   "cell_type": "markdown",
   "metadata": {},
   "source": [
    "I get the same scores with the shuffled data. That shows how robust the used libraries are to shuffled data. Linkage metrics are also therefore very likely to be very robust to shuffled data. However, in the lecture slides it says in L4 clustering on slide 36 that most linkage metrics are sensitive to data order besides single linkage. So that means that the explanation lays in the implementation of the library."
   ]
  },
  {
   "cell_type": "markdown",
   "metadata": {},
   "source": [
    "## Exercise 4"
   ]
  },
  {
   "cell_type": "code",
   "execution_count": 10,
   "metadata": {},
   "outputs": [
    {
     "data": {
      "text/html": [
       "<div>\n",
       "<style scoped>\n",
       "    .dataframe tbody tr th:only-of-type {\n",
       "        vertical-align: middle;\n",
       "    }\n",
       "\n",
       "    .dataframe tbody tr th {\n",
       "        vertical-align: top;\n",
       "    }\n",
       "\n",
       "    .dataframe thead th {\n",
       "        text-align: right;\n",
       "    }\n",
       "</style>\n",
       "<table border=\"1\" class=\"dataframe\">\n",
       "  <thead>\n",
       "    <tr style=\"text-align: right;\">\n",
       "      <th></th>\n",
       "      <th>name</th>\n",
       "      <th>race</th>\n",
       "      <th>age</th>\n",
       "      <th>daily_milk_yield</th>\n",
       "      <th>character</th>\n",
       "      <th>music</th>\n",
       "    </tr>\n",
       "  </thead>\n",
       "  <tbody>\n",
       "    <tr>\n",
       "      <td>0</td>\n",
       "      <td>Clover</td>\n",
       "      <td>Holstein</td>\n",
       "      <td>2</td>\n",
       "      <td>20</td>\n",
       "      <td>lively</td>\n",
       "      <td>rock</td>\n",
       "    </tr>\n",
       "    <tr>\n",
       "      <td>1</td>\n",
       "      <td>Sunny</td>\n",
       "      <td>Ayrshire</td>\n",
       "      <td>2</td>\n",
       "      <td>10</td>\n",
       "      <td>kind</td>\n",
       "      <td>rock</td>\n",
       "    </tr>\n",
       "    <tr>\n",
       "      <td>2</td>\n",
       "      <td>Rose</td>\n",
       "      <td>Holstein</td>\n",
       "      <td>5</td>\n",
       "      <td>15</td>\n",
       "      <td>calm</td>\n",
       "      <td>country</td>\n",
       "    </tr>\n",
       "    <tr>\n",
       "      <td>3</td>\n",
       "      <td>Daisy</td>\n",
       "      <td>Ayrshire</td>\n",
       "      <td>4</td>\n",
       "      <td>25</td>\n",
       "      <td>calm</td>\n",
       "      <td>classical</td>\n",
       "    </tr>\n",
       "    <tr>\n",
       "      <td>4</td>\n",
       "      <td>Strawberry</td>\n",
       "      <td>Finncattle</td>\n",
       "      <td>7</td>\n",
       "      <td>35</td>\n",
       "      <td>calm</td>\n",
       "      <td>classical</td>\n",
       "    </tr>\n",
       "    <tr>\n",
       "      <td>5</td>\n",
       "      <td>Molly</td>\n",
       "      <td>Ayrshire</td>\n",
       "      <td>8</td>\n",
       "      <td>45</td>\n",
       "      <td>kind</td>\n",
       "      <td>country</td>\n",
       "    </tr>\n",
       "  </tbody>\n",
       "</table>\n",
       "</div>"
      ],
      "text/plain": [
       "         name        race  age  daily_milk_yield character      music\n",
       "0      Clover    Holstein    2                20    lively       rock\n",
       "1       Sunny    Ayrshire    2                10      kind       rock\n",
       "2        Rose    Holstein    5                15      calm    country\n",
       "3       Daisy    Ayrshire    4                25      calm  classical\n",
       "4  Strawberry  Finncattle    7                35      calm  classical\n",
       "5       Molly    Ayrshire    8                45      kind    country"
      ]
     },
     "execution_count": 10,
     "metadata": {},
     "output_type": "execute_result"
    }
   ],
   "source": [
    "d = {'name': ['Clover', 'Sunny', 'Rose', 'Daisy', 'Strawberry', 'Molly'], \n",
    "     'race': ['Holstein', 'Ayrshire', 'Holstein', 'Ayrshire', 'Finncattle', 'Ayrshire'],\n",
    "     'age': [2, 2, 5, 4, 7, 8],\n",
    "     'daily_milk_yield': [20, 10, 15, 25, 35, 45],\n",
    "     'character': ['lively', 'kind', 'calm', 'calm', 'calm', 'kind'],\n",
    "     'music': ['rock', 'rock', 'country', 'classical', 'classical', 'country']}\n",
    "df_cow = pd.DataFrame(data=d)\n",
    "df_cow"
   ]
  },
  {
   "cell_type": "markdown",
   "metadata": {},
   "source": [
    "### Exercise 4 a)"
   ]
  },
  {
   "cell_type": "code",
   "execution_count": 11,
   "metadata": {},
   "outputs": [
    {
     "data": {
      "text/html": [
       "<div>\n",
       "<style scoped>\n",
       "    .dataframe tbody tr th:only-of-type {\n",
       "        vertical-align: middle;\n",
       "    }\n",
       "\n",
       "    .dataframe tbody tr th {\n",
       "        vertical-align: top;\n",
       "    }\n",
       "\n",
       "    .dataframe thead th {\n",
       "        text-align: right;\n",
       "    }\n",
       "</style>\n",
       "<table border=\"1\" class=\"dataframe\">\n",
       "  <thead>\n",
       "    <tr style=\"text-align: right;\">\n",
       "      <th></th>\n",
       "      <th>name</th>\n",
       "      <th>race</th>\n",
       "      <th>age</th>\n",
       "      <th>daily_milk_yield</th>\n",
       "      <th>character</th>\n",
       "      <th>music</th>\n",
       "    </tr>\n",
       "  </thead>\n",
       "  <tbody>\n",
       "    <tr>\n",
       "      <td>0</td>\n",
       "      <td>Clover</td>\n",
       "      <td>Holstein</td>\n",
       "      <td>-1.166920</td>\n",
       "      <td>-0.420084</td>\n",
       "      <td>lively</td>\n",
       "      <td>rock</td>\n",
       "    </tr>\n",
       "    <tr>\n",
       "      <td>1</td>\n",
       "      <td>Sunny</td>\n",
       "      <td>Ayrshire</td>\n",
       "      <td>-1.166920</td>\n",
       "      <td>-1.260252</td>\n",
       "      <td>kind</td>\n",
       "      <td>rock</td>\n",
       "    </tr>\n",
       "    <tr>\n",
       "      <td>2</td>\n",
       "      <td>Rose</td>\n",
       "      <td>Holstein</td>\n",
       "      <td>0.145865</td>\n",
       "      <td>-0.840168</td>\n",
       "      <td>calm</td>\n",
       "      <td>country</td>\n",
       "    </tr>\n",
       "    <tr>\n",
       "      <td>3</td>\n",
       "      <td>Daisy</td>\n",
       "      <td>Ayrshire</td>\n",
       "      <td>-0.291730</td>\n",
       "      <td>0.000000</td>\n",
       "      <td>calm</td>\n",
       "      <td>classical</td>\n",
       "    </tr>\n",
       "    <tr>\n",
       "      <td>4</td>\n",
       "      <td>Strawberry</td>\n",
       "      <td>Finncattle</td>\n",
       "      <td>1.021055</td>\n",
       "      <td>0.840168</td>\n",
       "      <td>calm</td>\n",
       "      <td>classical</td>\n",
       "    </tr>\n",
       "    <tr>\n",
       "      <td>5</td>\n",
       "      <td>Molly</td>\n",
       "      <td>Ayrshire</td>\n",
       "      <td>1.458650</td>\n",
       "      <td>1.680336</td>\n",
       "      <td>kind</td>\n",
       "      <td>country</td>\n",
       "    </tr>\n",
       "  </tbody>\n",
       "</table>\n",
       "</div>"
      ],
      "text/plain": [
       "         name        race       age  daily_milk_yield character      music\n",
       "0      Clover    Holstein -1.166920         -0.420084    lively       rock\n",
       "1       Sunny    Ayrshire -1.166920         -1.260252      kind       rock\n",
       "2        Rose    Holstein  0.145865         -0.840168      calm    country\n",
       "3       Daisy    Ayrshire -0.291730          0.000000      calm  classical\n",
       "4  Strawberry  Finncattle  1.021055          0.840168      calm  classical\n",
       "5       Molly    Ayrshire  1.458650          1.680336      kind    country"
      ]
     },
     "execution_count": 11,
     "metadata": {},
     "output_type": "execute_result"
    }
   ],
   "source": [
    "# Scale numerical features\n",
    "df_cow_scaled = df_cow.copy()\n",
    "df_cow_scaled['age'] = zscore(df_cow_scaled['age'].values)\n",
    "df_cow_scaled['daily_milk_yield'] = zscore(df_cow_scaled['daily_milk_yield'].values)\n",
    "df_cow_scaled"
   ]
  },
  {
   "cell_type": "code",
   "execution_count": 12,
   "metadata": {},
   "outputs": [
    {
     "name": "stdout",
     "output_type": "stream",
     "text": [
      "[[1.         0.54342863 0.42045789 0.50741142 0.28369042 0.22923437]\n",
      " [0.54342863 1.         0.42045789 0.39458038 0.24795529 0.20234042]\n",
      " [0.42045789 0.42045789 1.         0.51353233 0.34547158 0.26028848]\n",
      " [0.50741142 0.39458038 0.51353233 1.         0.39083616 0.29185252]\n",
      " [0.28369042 0.24795529 0.34547158 0.39083616 1.         0.51353233]\n",
      " [0.22923437 0.20234042 0.26028848 0.29185252 0.51353233 1.        ]]\n"
     ]
    }
   ],
   "source": [
    "# Euclidean distance\n",
    "\n",
    "# create 2D coordinates\n",
    "x = df_cow_scaled['age'].values\n",
    "y = df_cow_scaled['daily_milk_yield'].values\n",
    "\n",
    "coords = []\n",
    "for i in range(len(x)):\n",
    "    coords.append((x[i],y[i]))\n",
    "\n",
    "distance_matrix_euclidean = distance.cdist(coords, coords, 'euclidean')\n",
    "#print(distance_matrix_euclidean)\n",
    "\n",
    "similarity_matrix_euclidean = 1 / (1 + distance_matrix_euclidean)\n",
    "print(similarity_matrix_euclidean)"
   ]
  },
  {
   "cell_type": "code",
   "execution_count": 13,
   "metadata": {},
   "outputs": [
    {
     "name": "stdout",
     "output_type": "stream",
     "text": [
      "[[1.         0.38981442 0.24136452 0.49017834 0.29505025 0.28331167]\n",
      " [0.38981442 1.         0.35467813 0.4412813  0.31889861 0.26164814]\n",
      " [0.24136452 0.35467813 1.         0.30274127 0.34200803 0.25734316]\n",
      " [0.49017834 0.4412813  0.30274127 1.         0.42279899 0.36918974]\n",
      " [0.29505025 0.31889861 0.34200803 0.42279899 1.         0.50969595]\n",
      " [0.28331167 0.26164814 0.25734316 0.36918974 0.50969595 1.        ]]\n"
     ]
    }
   ],
   "source": [
    "# Mahalanobis distance\n",
    "distance_matrix_mahalanobis = distance.cdist(coords, coords, 'mahalanobis', VI=None)\n",
    "# print(distance_matrix_mahalanobis)\n",
    "\n",
    "similarity_matrix_mahalanobis = 1 / (1 + distance_matrix_mahalanobis)\n",
    "print(similarity_matrix_mahalanobis)"
   ]
  },
  {
   "cell_type": "markdown",
   "metadata": {},
   "source": [
    "### Exercise 4 b)"
   ]
  },
  {
   "cell_type": "code",
   "execution_count": 14,
   "metadata": {},
   "outputs": [
    {
     "name": "stdout",
     "output_type": "stream",
     "text": [
      "['Ayrshire' 'Finncattle' 'Holstein']\n",
      "['calm' 'kind' 'lively']\n",
      "['classical' 'country' 'rock']\n"
     ]
    }
   ],
   "source": [
    "# Goodall measure\n",
    "race = np.unique(df_cow_scaled['race'])\n",
    "character = np.unique(df_cow_scaled['character'])\n",
    "music = np.unique(df_cow_scaled['music'])\n",
    "print(race)\n",
    "print(character)\n",
    "print(music)"
   ]
  },
  {
   "cell_type": "code",
   "execution_count": 15,
   "metadata": {},
   "outputs": [
    {
     "name": "stdout",
     "output_type": "stream",
     "text": [
      "0.5 0.16666666666666666 0.3333333333333333 0.5 0.3333333333333333 0.16666666666666666 0.3333333333333333 0.3333333333333333 0.3333333333333333\n"
     ]
    }
   ],
   "source": [
    "# calculate frequency of values in column\n",
    "frequency_race = df_cow_scaled['race'].value_counts().to_dict()\n",
    "frequency_character = df_cow_scaled['character'].value_counts().to_dict()\n",
    "frequency_music = df_cow_scaled['music'].value_counts().to_dict()\n",
    "\n",
    "# probability values in respective column\n",
    "prob_ayrshire = frequency_race['Ayrshire'] / df_cow_scaled['race'].count()\n",
    "prob_finncattle = frequency_race['Finncattle'] / df_cow_scaled['race'].count()\n",
    "prob_holstein =frequency_race['Holstein'] / df_cow_scaled['race'].count()\n",
    "\n",
    "prob_calm = frequency_character['calm'] / df_cow_scaled['character'].count()\n",
    "prob_kind = frequency_character['kind'] / df_cow_scaled['character'].count()\n",
    "prob_lively = frequency_character['lively'] / df_cow_scaled['character'].count()\n",
    "\n",
    "prob_classical = frequency_music['classical'] / df_cow_scaled['music'].count()\n",
    "prob_country = frequency_music['country'] / df_cow_scaled['music'].count()\n",
    "prob_rock = frequency_music['rock'] / df_cow_scaled['music'].count()\n",
    "\n",
    "print(prob_ayrshire, prob_finncattle, prob_holstein, prob_calm, prob_kind, prob_lively, prob_classical, prob_country, prob_rock)\n"
   ]
  },
  {
   "cell_type": "code",
   "execution_count": 16,
   "metadata": {},
   "outputs": [],
   "source": [
    "features = ['race','character','music']\n",
    "\n",
    "#similarity_graph = np.zeros((15,4)) # explanation dimension: (kombinatorik everyone with everyone n^k-1, keep track of values in 4 columns)\n",
    "similarity_matrix_cat = np.zeros((df_cow_scaled.shape[0],df_cow_scaled.shape[0]))\n",
    "counter = 0\n",
    "overview = {}\n",
    "\n",
    "for i in range(df_cow_scaled.shape[0]):\n",
    "    for j in range(i+1,df_cow_scaled.shape[0]):\n",
    "        #print('i: ',i,' j: ',j)\n",
    "        \n",
    "        number_overlapping_feature_values = 0\n",
    "        shared_values = []\n",
    "        sum_prob_shared_value = 0\n",
    "        for feature in features:\n",
    "            if (df_cow_scaled[feature][i] == df_cow_scaled[feature][j]):\n",
    "                number_overlapping_feature_values += 1\n",
    "                shared_values.append(df_cow_scaled[feature][i])\n",
    "                \n",
    "                if (df_cow_scaled[feature][i] == 'Ayrshire'):\n",
    "                    sum_prob_shared_value += 1 - prob_ayrshire**2\n",
    "                elif (df_cow_scaled[feature][i] == 'Finncattle'):\n",
    "                    sum_prob_shared_value += 1 - prob_finncattle**2\n",
    "                elif (df_cow_scaled[feature][i] == 'Holstein'):\n",
    "                    sum_prob_shared_value += 1 - prob_holstein**2\n",
    "                elif (df_cow_scaled[feature][i] == 'calm'):\n",
    "                    sum_prob_shared_value += 1 - prob_calm**2\n",
    "                elif (df_cow_scaled[feature][i] == 'kind'):\n",
    "                    sum_prob_shared_value += 1 - prob_kind**2\n",
    "                elif (df_cow_scaled[feature][i] == 'lively'):\n",
    "                    sum_prob_shared_value += 1 - prob_lively**2\n",
    "                elif (df_cow_scaled[feature][i] == 'classical'):\n",
    "                    sum_prob_shared_value += 1 - prob_classical**2\n",
    "                elif (df_cow_scaled[feature][i] == 'country'):\n",
    "                    sum_prob_shared_value += 1 - prob_country**2\n",
    "                elif (df_cow_scaled[feature][i] == 'rock'):\n",
    "                    sum_prob_shared_value += 1 - prob_rock**2\n",
    "        overlap = number_overlapping_feature_values / len(features)\n",
    "        goodall = sum_prob_shared_value / len(features)\n",
    "        \n",
    "        # write information in similarity_graph\n",
    "        #similarity_graph[counter][0] = str(\"\"+str(i)+\"-\"+str(j)) # Spalte 1: Kombination\n",
    "        #similarity_graph[counter][1] = shared_values # Spalte 2: shared values\n",
    "        #similarity_graph[counter][2] = overlap # Spalte 3: overlap\n",
    "        overview[(i,j)] = [shared_values, overlap, goodall]\n",
    "        similarity_matrix_cat[i][j] = goodall\n",
    "        similarity_matrix_cat[j][i] = goodall\n",
    "         \n",
    "        counter +=1\n",
    "        "
   ]
  },
  {
   "cell_type": "code",
   "execution_count": 17,
   "metadata": {},
   "outputs": [
    {
     "name": "stdout",
     "output_type": "stream",
     "text": [
      "[[1.        0.2962963 0.2962963 0.        0.        0.       ]\n",
      " [0.2962963 1.        0.        0.25      0.        0.5462963]\n",
      " [0.2962963 0.        1.        0.25      0.25      0.2962963]\n",
      " [0.        0.25      0.25      1.        0.5462963 0.25     ]\n",
      " [0.        0.        0.25      0.5462963 1.        0.       ]\n",
      " [0.        0.5462963 0.2962963 0.25      0.        1.       ]]\n"
     ]
    }
   ],
   "source": [
    "np.fill_diagonal(similarity_matrix_cat, 1)\n",
    "\n",
    "print(similarity_matrix_cat)"
   ]
  },
  {
   "cell_type": "markdown",
   "metadata": {},
   "source": [
    "### Exercise 4 c)"
   ]
  },
  {
   "cell_type": "code",
   "execution_count": 18,
   "metadata": {},
   "outputs": [
    {
     "data": {
      "text/plain": [
       "array([[1.        , 0.33370354, 0.27432359, 0.19607134, 0.1180201 ,\n",
       "        0.11332467],\n",
       "       [0.33370354, 1.        , 0.14187125, 0.32651252, 0.12755944,\n",
       "        0.43243703],\n",
       "       [0.27432359, 0.14187125, 1.        , 0.27109651, 0.28680321,\n",
       "        0.28071504],\n",
       "       [0.19607134, 0.32651252, 0.27109651, 1.        , 0.49689737,\n",
       "        0.2976759 ],\n",
       "       [0.1180201 , 0.12755944, 0.28680321, 0.49689737, 1.        ,\n",
       "        0.20387838],\n",
       "       [0.11332467, 0.43243703, 0.28071504, 0.2976759 , 0.20387838,\n",
       "        1.        ]])"
      ]
     },
     "execution_count": 18,
     "metadata": {},
     "output_type": "execute_result"
    }
   ],
   "source": [
    "# overlap similarity\n",
    "\n",
    "lambda_mixed_data = 2/5 # see lecture slide: e.g. fraction of numerical features in data\n",
    "\n",
    "mixed_similarity = lambda_mixed_data * similarity_matrix_mahalanobis  + (1 - lambda_mixed_data) * similarity_matrix_cat \n",
    "mixed_similarity"
   ]
  },
  {
   "cell_type": "code",
   "execution_count": 19,
   "metadata": {},
   "outputs": [],
   "source": [
    "#mixed_similarity_normalized = (mixed_similarity - np.min(mixed_similarity)) / (np.max(mixed_similarity) - np.min(mixed_similarity))\n",
    "#print(mixed_similarity_normalized)"
   ]
  },
  {
   "cell_type": "markdown",
   "metadata": {},
   "source": [
    "### Exercise 4 d)"
   ]
  },
  {
   "cell_type": "code",
   "execution_count": 20,
   "metadata": {},
   "outputs": [
    {
     "name": "stdout",
     "output_type": "stream",
     "text": [
      "[[0.         0.66629646 0.72567641 0.80392866 0.8819799  0.88667533]\n",
      " [0.66629646 0.         0.85812875 0.67348748 0.87244056 0.56756297]\n",
      " [0.72567641 0.85812875 0.         0.72890349 0.71319679 0.71928496]\n",
      " [0.80392866 0.67348748 0.72890349 0.         0.50310263 0.7023241 ]\n",
      " [0.8819799  0.87244056 0.71319679 0.50310263 0.         0.79612162]\n",
      " [0.88667533 0.56756297 0.71928496 0.7023241  0.79612162 0.        ]]\n"
     ]
    }
   ],
   "source": [
    "# transform from similarity to distance\n",
    "mixed_distance = 1 - mixed_similarity\n",
    "print(mixed_distance)"
   ]
  },
  {
   "cell_type": "markdown",
   "metadata": {},
   "source": [
    "<div class=\"alert alert-success\">\n",
    "<b>Question</b> \n",
    "    \n",
    "* Is the distance measure a metric? Prove your answer.\n",
    "</div>"
   ]
  },
  {
   "cell_type": "markdown",
   "metadata": {},
   "source": [
    "To prove that the distance measure is a metric we need to prove the 4 properties:\n",
    "- In the mixed distance matrix we can see that all distances are non-negative\n",
    "- The distance is only 0 if x=y. That's the case since only the diagonal is zero\n",
    "- The symmetry d(x,y) = d(y,x) also applies because when we transpose the matrix it is the same since we have a symmetric matrix.\n",
    "- The triangle inequality also applies because we calculated the distances in the previous steps with the Euclidean distance. And the L2-norm contains that property."
   ]
  },
  {
   "cell_type": "markdown",
   "metadata": {},
   "source": [
    "## Exercise 5"
   ]
  },
  {
   "cell_type": "code",
   "execution_count": 21,
   "metadata": {},
   "outputs": [
    {
     "data": {
      "text/plain": [
       "array([[ 0. ,  1. ],\n",
       "       [-0.5,  1.5],\n",
       "       [ 1.5,  2.5],\n",
       "       [ 1. ,  3. ]])"
      ]
     },
     "execution_count": 21,
     "metadata": {},
     "output_type": "execute_result"
    }
   ],
   "source": [
    "dataset = np.array([[0, 1],\n",
    "                  [-0.5, 1.5],\n",
    "                  [1.5, 2.5],\n",
    "                  [1, 3]])\n",
    "dataset"
   ]
  },
  {
   "cell_type": "markdown",
   "metadata": {},
   "source": [
    "### Exercise 5 a)"
   ]
  },
  {
   "cell_type": "code",
   "execution_count": 22,
   "metadata": {},
   "outputs": [
    {
     "name": "stdout",
     "output_type": "stream",
     "text": [
      "cov_matrix:  [[1.33333333 1.06666667]\n",
      " [1.06666667 1.33333333]]\n",
      "Eigenvectors:  [[ 0.70710678 -0.70710678]\n",
      " [ 0.70710678  0.70710678]]\n",
      "Eigenvalues:  [2.4        0.26666667]\n",
      "Eigenvalues in descending order:\n",
      "2.3999999999999995\n",
      "0.2666666666666664\n"
     ]
    }
   ],
   "source": [
    "# Data scaling\n",
    "dataset_scaled = StandardScaler().fit_transform(dataset)\n",
    "\n",
    "# calculate covariance matrix\n",
    "features = dataset_scaled.T\n",
    "cov_matrix = np.cov(features)\n",
    "print(\"cov_matrix: \", cov_matrix)\n",
    "\n",
    "# eigenvalue decomposition\n",
    "eig_values, eig_vectors = np.linalg.eig(cov_matrix)\n",
    "print('Eigenvectors: ', eig_vectors)\n",
    "print('Eigenvalues: ', eig_values)\n",
    "\n",
    "# Visually confirm that the list is correctly sorted by decreasing eigenvalues\n",
    "eig_pairs = [(np.abs(eig_values[i]), eig_vectors[:,i]) for i in range(len(eig_values))]\n",
    "print('Eigenvalues in descending order:')\n",
    "for i in eig_pairs:\n",
    "    print(i[0])"
   ]
  },
  {
   "cell_type": "code",
   "execution_count": 23,
   "metadata": {},
   "outputs": [
    {
     "data": {
      "text/html": [
       "<div>\n",
       "<style scoped>\n",
       "    .dataframe tbody tr th:only-of-type {\n",
       "        vertical-align: middle;\n",
       "    }\n",
       "\n",
       "    .dataframe tbody tr th {\n",
       "        vertical-align: top;\n",
       "    }\n",
       "\n",
       "    .dataframe thead th {\n",
       "        text-align: right;\n",
       "    }\n",
       "</style>\n",
       "<table border=\"1\" class=\"dataframe\">\n",
       "  <thead>\n",
       "    <tr style=\"text-align: right;\">\n",
       "      <th></th>\n",
       "      <th>0</th>\n",
       "      <th>1</th>\n",
       "    </tr>\n",
       "  </thead>\n",
       "  <tbody>\n",
       "    <tr>\n",
       "      <td>0</td>\n",
       "      <td>-0.632456</td>\n",
       "      <td>-1.264911</td>\n",
       "    </tr>\n",
       "    <tr>\n",
       "      <td>1</td>\n",
       "      <td>-1.264911</td>\n",
       "      <td>-0.632456</td>\n",
       "    </tr>\n",
       "    <tr>\n",
       "      <td>2</td>\n",
       "      <td>1.264911</td>\n",
       "      <td>0.632456</td>\n",
       "    </tr>\n",
       "    <tr>\n",
       "      <td>3</td>\n",
       "      <td>0.632456</td>\n",
       "      <td>1.264911</td>\n",
       "    </tr>\n",
       "  </tbody>\n",
       "</table>\n",
       "</div>"
      ],
      "text/plain": [
       "          0         1\n",
       "0 -0.632456 -1.264911\n",
       "1 -1.264911 -0.632456\n",
       "2  1.264911  0.632456\n",
       "3  0.632456  1.264911"
      ]
     },
     "execution_count": 23,
     "metadata": {},
     "output_type": "execute_result"
    }
   ],
   "source": [
    "df_scaled = pd.DataFrame(dataset_scaled)\n",
    "df_scaled"
   ]
  },
  {
   "cell_type": "markdown",
   "metadata": {},
   "source": [
    "### Exercise 5 b)"
   ]
  },
  {
   "cell_type": "markdown",
   "metadata": {},
   "source": [
    "<div class=\"alert alert-danger\">\n",
    "<b>Task:</b> \n",
    "\n",
    "Use it to transform the original 2-dimensional data set into a 1-dimensional representation (a 4 × 1 matrix) such that the variance of the resulting data is equal to the largest eigenvalue.\n",
    "\n",
    "</div>"
   ]
  },
  {
   "cell_type": "code",
   "execution_count": 24,
   "metadata": {},
   "outputs": [
    {
     "data": {
      "text/html": [
       "<div>\n",
       "<style scoped>\n",
       "    .dataframe tbody tr th:only-of-type {\n",
       "        vertical-align: middle;\n",
       "    }\n",
       "\n",
       "    .dataframe tbody tr th {\n",
       "        vertical-align: top;\n",
       "    }\n",
       "\n",
       "    .dataframe thead th {\n",
       "        text-align: right;\n",
       "    }\n",
       "</style>\n",
       "<table border=\"1\" class=\"dataframe\">\n",
       "  <thead>\n",
       "    <tr style=\"text-align: right;\">\n",
       "      <th></th>\n",
       "      <th>pc1</th>\n",
       "    </tr>\n",
       "  </thead>\n",
       "  <tbody>\n",
       "    <tr>\n",
       "      <td>0</td>\n",
       "      <td>1.341641</td>\n",
       "    </tr>\n",
       "    <tr>\n",
       "      <td>1</td>\n",
       "      <td>1.341641</td>\n",
       "    </tr>\n",
       "    <tr>\n",
       "      <td>2</td>\n",
       "      <td>-1.341641</td>\n",
       "    </tr>\n",
       "    <tr>\n",
       "      <td>3</td>\n",
       "      <td>-1.341641</td>\n",
       "    </tr>\n",
       "  </tbody>\n",
       "</table>\n",
       "</div>"
      ],
      "text/plain": [
       "        pc1\n",
       "0  1.341641\n",
       "1  1.341641\n",
       "2 -1.341641\n",
       "3 -1.341641"
      ]
     },
     "execution_count": 24,
     "metadata": {},
     "output_type": "execute_result"
    }
   ],
   "source": [
    "pca_1comp = PCA(n_components=1)\n",
    "principal_components1 = pca_1comp.fit_transform(dataset_scaled)\n",
    "principal_df1 = pd.DataFrame(data = principal_components1, columns = ['pc1'])\n",
    "principal_df1"
   ]
  },
  {
   "cell_type": "code",
   "execution_count": 25,
   "metadata": {},
   "outputs": [
    {
     "data": {
      "text/plain": [
       "pc1    2.4\n",
       "dtype: float64"
      ]
     },
     "execution_count": 25,
     "metadata": {},
     "output_type": "execute_result"
    }
   ],
   "source": [
    "principal_df1.var()"
   ]
  },
  {
   "cell_type": "markdown",
   "metadata": {},
   "source": [
    "<div class=\"alert alert-danger\">\n",
    "<b>Task:</b> \n",
    "\n",
    "Next, use it to transform the original dataset into a 2-dimensional representation, such that the variance of one of the columns is equal to the smallest eigenvalue.\n",
    "</div>"
   ]
  },
  {
   "cell_type": "code",
   "execution_count": 26,
   "metadata": {},
   "outputs": [
    {
     "data": {
      "text/html": [
       "<div>\n",
       "<style scoped>\n",
       "    .dataframe tbody tr th:only-of-type {\n",
       "        vertical-align: middle;\n",
       "    }\n",
       "\n",
       "    .dataframe tbody tr th {\n",
       "        vertical-align: top;\n",
       "    }\n",
       "\n",
       "    .dataframe thead th {\n",
       "        text-align: right;\n",
       "    }\n",
       "</style>\n",
       "<table border=\"1\" class=\"dataframe\">\n",
       "  <thead>\n",
       "    <tr style=\"text-align: right;\">\n",
       "      <th></th>\n",
       "      <th>pc1</th>\n",
       "      <th>pc2</th>\n",
       "    </tr>\n",
       "  </thead>\n",
       "  <tbody>\n",
       "    <tr>\n",
       "      <td>0</td>\n",
       "      <td>1.341641</td>\n",
       "      <td>0.447214</td>\n",
       "    </tr>\n",
       "    <tr>\n",
       "      <td>1</td>\n",
       "      <td>1.341641</td>\n",
       "      <td>-0.447214</td>\n",
       "    </tr>\n",
       "    <tr>\n",
       "      <td>2</td>\n",
       "      <td>-1.341641</td>\n",
       "      <td>0.447214</td>\n",
       "    </tr>\n",
       "    <tr>\n",
       "      <td>3</td>\n",
       "      <td>-1.341641</td>\n",
       "      <td>-0.447214</td>\n",
       "    </tr>\n",
       "  </tbody>\n",
       "</table>\n",
       "</div>"
      ],
      "text/plain": [
       "        pc1       pc2\n",
       "0  1.341641  0.447214\n",
       "1  1.341641 -0.447214\n",
       "2 -1.341641  0.447214\n",
       "3 -1.341641 -0.447214"
      ]
     },
     "execution_count": 26,
     "metadata": {},
     "output_type": "execute_result"
    }
   ],
   "source": [
    "pca_2comp = PCA(n_components=2)\n",
    "principal_components2 = pca_2comp.fit_transform(dataset_scaled)\n",
    "principal_df2 = pd.DataFrame(data = principal_components2, columns = ['pc1','pc2'])\n",
    "principal_df2"
   ]
  },
  {
   "cell_type": "code",
   "execution_count": 27,
   "metadata": {},
   "outputs": [
    {
     "data": {
      "text/plain": [
       "pc1    2.400000\n",
       "pc2    0.266667\n",
       "dtype: float64"
      ]
     },
     "execution_count": 27,
     "metadata": {},
     "output_type": "execute_result"
    }
   ],
   "source": [
    "principal_df2.var()"
   ]
  },
  {
   "cell_type": "markdown",
   "metadata": {},
   "source": [
    "### Exercise 5 c)"
   ]
  },
  {
   "cell_type": "code",
   "execution_count": 28,
   "metadata": {},
   "outputs": [
    {
     "name": "stdout",
     "output_type": "stream",
     "text": [
      "Euclidean distance matrix:\n"
     ]
    },
    {
     "data": {
      "text/plain": [
       "array([[0.        , 0.70710678, 2.12132034, 2.23606798],\n",
       "       [0.70710678, 0.        , 2.23606798, 2.12132034],\n",
       "       [2.12132034, 2.23606798, 0.        , 0.70710678],\n",
       "       [2.23606798, 2.12132034, 0.70710678, 0.        ]])"
      ]
     },
     "execution_count": 28,
     "metadata": {},
     "output_type": "execute_result"
    }
   ],
   "source": [
    "# Compute the Euclidean distance between all pairs of points in the original data set\n",
    "dist_orig = distance.cdist(dataset,dataset, 'euclidean')\n",
    "print(\"Euclidean distance matrix:\")\n",
    "dist_orig"
   ]
  },
  {
   "cell_type": "code",
   "execution_count": 29,
   "metadata": {},
   "outputs": [
    {
     "name": "stdout",
     "output_type": "stream",
     "text": [
      "coords:  [[1.3416407864998747], [1.341640786499874], [-1.3416407864998738], [-1.341640786499874]]\n",
      "Euclidean distance matrix:\n"
     ]
    },
    {
     "data": {
      "text/plain": [
       "array([6.66133815e-16, 2.68328157e+00, 2.68328157e+00, 2.68328157e+00,\n",
       "       2.68328157e+00, 2.22044605e-16])"
      ]
     },
     "execution_count": 29,
     "metadata": {},
     "output_type": "execute_result"
    }
   ],
   "source": [
    "# Compute the Euclidean distance between all pairs of points in the 1-dimensional representation obtained in exercise 5b\n",
    "data_pc1 = principal_df1['pc1'].values\n",
    "coords = []\n",
    "for i in range(len(data_pc1)):\n",
    "    coords.append([data_pc1[i]])\n",
    "print(\"coords: \", coords)\n",
    "\n",
    "dist_pc1 = distance.pdist(coords, 'euclidean')\n",
    "print(\"Euclidean distance matrix:\")\n",
    "dist_pc1\n"
   ]
  },
  {
   "cell_type": "code",
   "execution_count": 30,
   "metadata": {},
   "outputs": [
    {
     "name": "stdout",
     "output_type": "stream",
     "text": [
      "[(1.3416407864998747, 0.44721359549995815), (1.341640786499874, -0.4472135954999579), (-1.3416407864998738, 0.44721359549995804), (-1.341640786499874, -0.44721359549995787)]\n",
      "Euclidean distance matrix:\n"
     ]
    },
    {
     "data": {
      "text/plain": [
       "array([[0.        , 0.89442719, 2.68328157, 2.82842712],\n",
       "       [0.89442719, 0.        , 2.82842712, 2.68328157],\n",
       "       [2.68328157, 2.82842712, 0.        , 0.89442719],\n",
       "       [2.82842712, 2.68328157, 0.89442719, 0.        ]])"
      ]
     },
     "execution_count": 30,
     "metadata": {},
     "output_type": "execute_result"
    }
   ],
   "source": [
    "# Compute the Euclidean distance between all pairs of points in the 2-dimensional representation obtained in exercise 5b.\n",
    "\n",
    "coords = []\n",
    "for i in range(principal_df2.shape[0]):\n",
    "    coords.append((principal_df2['pc1'][i],principal_df2['pc2'][i]))\n",
    "print(coords)\n",
    "\n",
    "dist_pc2 = distance.cdist(coords,coords, 'euclidean')\n",
    "print(\"Euclidean distance matrix:\")\n",
    "dist_pc2"
   ]
  },
  {
   "cell_type": "markdown",
   "metadata": {},
   "source": [
    "<div class=\"alert alert-success\">\n",
    "<b>Question</b> \n",
    "    \n",
    "* What is the effect of the previous transformations on these distances?\n",
    "</div>"
   ]
  },
  {
   "cell_type": "markdown",
   "metadata": {},
   "source": [
    "* It is basically the idea of Principal component analysis\n",
    "* we can reduce the distance with the lower dimension while still retaining the majority of information\n",
    "* if we convert it back to the same dimensional space the we get the same distances"
   ]
  },
  {
   "cell_type": "markdown",
   "metadata": {},
   "source": [
    "### Exercise 5 d)"
   ]
  },
  {
   "cell_type": "code",
   "execution_count": 31,
   "metadata": {},
   "outputs": [
    {
     "data": {
      "text/plain": [
       "array([[0.70710678, 0.70710678],\n",
       "       [0.70710678, 1.41421356],\n",
       "       [2.82842712, 0.70710678],\n",
       "       [2.82842712, 1.41421356]])"
      ]
     },
     "execution_count": 31,
     "metadata": {},
     "output_type": "execute_result"
    }
   ],
   "source": [
    "dataset2 = np.array([[np.sqrt(0.5), np.sqrt(0.5)],\n",
    "                  [np.sqrt(0.5), 2 * np.sqrt(0.5)],\n",
    "                  [4 * np.sqrt(0.5), np.sqrt(0.5)],\n",
    "                  [4 * np.sqrt(0.5), 2 * np.sqrt(0.5)]])\n",
    "dataset2"
   ]
  },
  {
   "cell_type": "code",
   "execution_count": 32,
   "metadata": {},
   "outputs": [
    {
     "data": {
      "text/plain": [
       "array([[-1., -1.],\n",
       "       [-1.,  1.],\n",
       "       [ 1., -1.],\n",
       "       [ 1.,  1.]])"
      ]
     },
     "execution_count": 32,
     "metadata": {},
     "output_type": "execute_result"
    }
   ],
   "source": [
    "dataset_scaled2 = StandardScaler().fit_transform(dataset2)\n",
    "dataset_scaled2"
   ]
  },
  {
   "cell_type": "code",
   "execution_count": 33,
   "metadata": {},
   "outputs": [
    {
     "data": {
      "text/html": [
       "<div>\n",
       "<style scoped>\n",
       "    .dataframe tbody tr th:only-of-type {\n",
       "        vertical-align: middle;\n",
       "    }\n",
       "\n",
       "    .dataframe tbody tr th {\n",
       "        vertical-align: top;\n",
       "    }\n",
       "\n",
       "    .dataframe thead th {\n",
       "        text-align: right;\n",
       "    }\n",
       "</style>\n",
       "<table border=\"1\" class=\"dataframe\">\n",
       "  <thead>\n",
       "    <tr style=\"text-align: right;\">\n",
       "      <th></th>\n",
       "      <th>0</th>\n",
       "      <th>1</th>\n",
       "    </tr>\n",
       "  </thead>\n",
       "  <tbody>\n",
       "    <tr>\n",
       "      <td>0</td>\n",
       "      <td>-1.0</td>\n",
       "      <td>-1.0</td>\n",
       "    </tr>\n",
       "    <tr>\n",
       "      <td>1</td>\n",
       "      <td>-1.0</td>\n",
       "      <td>1.0</td>\n",
       "    </tr>\n",
       "    <tr>\n",
       "      <td>2</td>\n",
       "      <td>1.0</td>\n",
       "      <td>-1.0</td>\n",
       "    </tr>\n",
       "    <tr>\n",
       "      <td>3</td>\n",
       "      <td>1.0</td>\n",
       "      <td>1.0</td>\n",
       "    </tr>\n",
       "  </tbody>\n",
       "</table>\n",
       "</div>"
      ],
      "text/plain": [
       "     0    1\n",
       "0 -1.0 -1.0\n",
       "1 -1.0  1.0\n",
       "2  1.0 -1.0\n",
       "3  1.0  1.0"
      ]
     },
     "execution_count": 33,
     "metadata": {},
     "output_type": "execute_result"
    }
   ],
   "source": [
    "df_scaled2 = pd.DataFrame(dataset_scaled2)\n",
    "df_scaled2"
   ]
  },
  {
   "cell_type": "code",
   "execution_count": 34,
   "metadata": {},
   "outputs": [
    {
     "name": "stdout",
     "output_type": "stream",
     "text": [
      "cov_matrix:  [[1.33333333 0.        ]\n",
      " [0.         1.33333333]]\n",
      "Eigenvectors:  [[1. 0.]\n",
      " [0. 1.]]\n",
      "Eigenvalues:  [1.33333333 1.33333333]\n",
      "Eigenvalues in descending order:\n",
      "1.3333333333333333\n",
      "1.3333333333333333\n"
     ]
    }
   ],
   "source": [
    "# repeat a)\n",
    "\n",
    "# calculate covariance matrix\n",
    "features = dataset_scaled2.T\n",
    "cov_matrix = np.cov(features)\n",
    "print(\"cov_matrix: \", cov_matrix)\n",
    "\n",
    "# eigenvalue decomposition\n",
    "eig_values, eig_vectors = np.linalg.eig(cov_matrix)\n",
    "print('Eigenvectors: ', eig_vectors)\n",
    "print('Eigenvalues: ', eig_values)\n",
    "\n",
    "# Visually confirm that the list is correctly sorted by decreasing eigenvalues\n",
    "eig_pairs = [(np.abs(eig_values[i]), eig_vectors[:,i]) for i in range(len(eig_values))]\n",
    "print('Eigenvalues in descending order:')\n",
    "for i in eig_pairs:\n",
    "    print(i[0])"
   ]
  },
  {
   "cell_type": "code",
   "execution_count": 35,
   "metadata": {},
   "outputs": [
    {
     "data": {
      "text/html": [
       "<div>\n",
       "<style scoped>\n",
       "    .dataframe tbody tr th:only-of-type {\n",
       "        vertical-align: middle;\n",
       "    }\n",
       "\n",
       "    .dataframe tbody tr th {\n",
       "        vertical-align: top;\n",
       "    }\n",
       "\n",
       "    .dataframe thead th {\n",
       "        text-align: right;\n",
       "    }\n",
       "</style>\n",
       "<table border=\"1\" class=\"dataframe\">\n",
       "  <thead>\n",
       "    <tr style=\"text-align: right;\">\n",
       "      <th></th>\n",
       "      <th>pc1</th>\n",
       "    </tr>\n",
       "  </thead>\n",
       "  <tbody>\n",
       "    <tr>\n",
       "      <td>0</td>\n",
       "      <td>1.0</td>\n",
       "    </tr>\n",
       "    <tr>\n",
       "      <td>1</td>\n",
       "      <td>1.0</td>\n",
       "    </tr>\n",
       "    <tr>\n",
       "      <td>2</td>\n",
       "      <td>-1.0</td>\n",
       "    </tr>\n",
       "    <tr>\n",
       "      <td>3</td>\n",
       "      <td>-1.0</td>\n",
       "    </tr>\n",
       "  </tbody>\n",
       "</table>\n",
       "</div>"
      ],
      "text/plain": [
       "   pc1\n",
       "0  1.0\n",
       "1  1.0\n",
       "2 -1.0\n",
       "3 -1.0"
      ]
     },
     "execution_count": 35,
     "metadata": {},
     "output_type": "execute_result"
    }
   ],
   "source": [
    "# repeat b)\n",
    "\n",
    "pca_1comp = PCA(n_components=1)\n",
    "principal_components1 = pca_1comp.fit_transform(dataset_scaled2)\n",
    "principal_df1 = pd.DataFrame(data = principal_components1, columns = ['pc1'])\n",
    "principal_df1"
   ]
  },
  {
   "cell_type": "code",
   "execution_count": 36,
   "metadata": {},
   "outputs": [
    {
     "data": {
      "text/plain": [
       "pc1    1.333333\n",
       "dtype: float64"
      ]
     },
     "execution_count": 36,
     "metadata": {},
     "output_type": "execute_result"
    }
   ],
   "source": [
    "principal_df1.var()"
   ]
  },
  {
   "cell_type": "code",
   "execution_count": 37,
   "metadata": {},
   "outputs": [
    {
     "data": {
      "text/html": [
       "<div>\n",
       "<style scoped>\n",
       "    .dataframe tbody tr th:only-of-type {\n",
       "        vertical-align: middle;\n",
       "    }\n",
       "\n",
       "    .dataframe tbody tr th {\n",
       "        vertical-align: top;\n",
       "    }\n",
       "\n",
       "    .dataframe thead th {\n",
       "        text-align: right;\n",
       "    }\n",
       "</style>\n",
       "<table border=\"1\" class=\"dataframe\">\n",
       "  <thead>\n",
       "    <tr style=\"text-align: right;\">\n",
       "      <th></th>\n",
       "      <th>pc1</th>\n",
       "      <th>pc2</th>\n",
       "    </tr>\n",
       "  </thead>\n",
       "  <tbody>\n",
       "    <tr>\n",
       "      <td>0</td>\n",
       "      <td>1.0</td>\n",
       "      <td>1.0</td>\n",
       "    </tr>\n",
       "    <tr>\n",
       "      <td>1</td>\n",
       "      <td>1.0</td>\n",
       "      <td>-1.0</td>\n",
       "    </tr>\n",
       "    <tr>\n",
       "      <td>2</td>\n",
       "      <td>-1.0</td>\n",
       "      <td>1.0</td>\n",
       "    </tr>\n",
       "    <tr>\n",
       "      <td>3</td>\n",
       "      <td>-1.0</td>\n",
       "      <td>-1.0</td>\n",
       "    </tr>\n",
       "  </tbody>\n",
       "</table>\n",
       "</div>"
      ],
      "text/plain": [
       "   pc1  pc2\n",
       "0  1.0  1.0\n",
       "1  1.0 -1.0\n",
       "2 -1.0  1.0\n",
       "3 -1.0 -1.0"
      ]
     },
     "execution_count": 37,
     "metadata": {},
     "output_type": "execute_result"
    }
   ],
   "source": [
    "pca_2comp = PCA(n_components=2)\n",
    "principal_components2 = pca_2comp.fit_transform(dataset_scaled2)\n",
    "principal_df2 = pd.DataFrame(data = principal_components2, columns = ['pc1','pc2'])\n",
    "principal_df2"
   ]
  },
  {
   "cell_type": "code",
   "execution_count": 38,
   "metadata": {},
   "outputs": [
    {
     "data": {
      "text/plain": [
       "pc1    1.333333\n",
       "pc2    1.333333\n",
       "dtype: float64"
      ]
     },
     "execution_count": 38,
     "metadata": {},
     "output_type": "execute_result"
    }
   ],
   "source": [
    "principal_df2.var()"
   ]
  },
  {
   "cell_type": "markdown",
   "metadata": {},
   "source": [
    "<div class=\"alert alert-success\">\n",
    "<b>Question</b> \n",
    "    \n",
    "* What are the similarities and differences between the results on this data set and the first one? \n",
    "* Can you give a geometric explanation for the similarities? Hint: plot the two data sets.\n",
    "</div>"
   ]
  },
  {
   "cell_type": "markdown",
   "metadata": {},
   "source": [
    "<b>Answer:</b> \n",
    "\n",
    "* The standard scaled version of the dataset given in exercise 5 d) is the same as the 2D principal components.\n",
    "* in d) both principal components have the same variance\n",
    "* Basically they are the same rectangle which we can see below. Just scaled and rotated."
   ]
  },
  {
   "cell_type": "code",
   "execution_count": 39,
   "metadata": {},
   "outputs": [
    {
     "name": "stdout",
     "output_type": "stream",
     "text": [
      "plot dataset 2\n"
     ]
    },
    {
     "data": {
      "text/plain": [
       "[<matplotlib.lines.Line2D at 0x7fe5c9d75f90>]"
      ]
     },
     "execution_count": 39,
     "metadata": {},
     "output_type": "execute_result"
    },
    {
     "data": {
      "image/png": "[encoded data removed]",
      "text/plain": [
       "<Figure size 432x288 with 1 Axes>"
      ]
     },
     "metadata": {
      "needs_background": "light"
     },
     "output_type": "display_data"
    }
   ],
   "source": [
    "print(\"plot dataset 2\")\n",
    "plt.plot(df_scaled[0].values,df_scaled[1].values, 'x')"
   ]
  },
  {
   "cell_type": "code",
   "execution_count": 40,
   "metadata": {},
   "outputs": [
    {
     "name": "stdout",
     "output_type": "stream",
     "text": [
      "plot dataset 2\n"
     ]
    },
    {
     "data": {
      "text/plain": [
       "[<matplotlib.lines.Line2D at 0x7fe5c9d9e3d0>]"
      ]
     },
     "execution_count": 40,
     "metadata": {},
     "output_type": "execute_result"
    },
    {
     "data": {
      "image/png": "[encoded data removed]",
      "text/plain": [
       "<Figure size 432x288 with 1 Axes>"
      ]
     },
     "metadata": {
      "needs_background": "light"
     },
     "output_type": "display_data"
    }
   ],
   "source": [
    "print(\"plot dataset 2\")\n",
    "plt.plot(df_scaled2[0].values,df_scaled2[1].values, 'x')"
   ]
  },
  {
   "cell_type": "code",
   "execution_count": null,
   "metadata": {},
   "outputs": [],
   "source": []
  }
 ],
 "metadata": {
  "kernelspec": {
   "display_name": "Python 3",
   "language": "python",
   "name": "python3"
  },
  "language_info": {
   "codemirror_mode": {
    "name": "ipython",
    "version": 3
   },
   "file_extension": ".py",
   "mimetype": "text/x-python",
   "name": "python",
   "nbconvert_exporter": "python",
   "pygments_lexer": "ipython3",
   "version": "3.7.9"
  },
  "toc": {
   "base_numbering": 1,
   "nav_menu": {},
   "number_sections": true,
   "sideBar": true,
   "skip_h1_title": false,
   "title_cell": "Table of Contents",
   "title_sidebar": "Contents",
   "toc_cell": true,
   "toc_position": {},
   "toc_section_display": true,
   "toc_window_display": false
  }
 },
 "nbformat": 4,
 "nbformat_minor": 4
}
