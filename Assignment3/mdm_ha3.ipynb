{
 "cells": [
  {
   "cell_type": "markdown",
   "metadata": {},
   "source": [
    "## Import"
   ]
  },
  {
   "cell_type": "code",
   "execution_count": 73,
   "metadata": {},
   "outputs": [],
   "source": [
    "import numpy as np\n",
    "import pandas as pd\n",
    "import matplotlib.pyplot as plt\n",
    "import re\n",
    "import nltk\n",
    "import random\n",
    "\n",
    "from nltk.corpus import movie_reviews\n",
    "from nltk.corpus import stopwords\n",
    "from nltk.tokenize import word_tokenize\n",
    "from nltk.stem import PorterStemmer\n",
    "from nltk.corpus import wordnet as wn\n",
    "from nltk.classify import SklearnClassifier\n",
    "from nltk.corpus import wordnet as wn\n",
    "\n",
    "from sklearn.feature_extraction.text import TfidfVectorizer\n",
    "from sklearn.svm import SVC\n",
    "\n",
    "import networkx as nx"
   ]
  },
  {
   "cell_type": "markdown",
   "metadata": {},
   "source": [
    "## Task 1"
   ]
  },
  {
   "cell_type": "markdown",
   "metadata": {},
   "source": [
    "Task 1 has been done on an external software Gephi, and therefore I wrote the report on a word document. The report has been merged to the beginning of this pdf."
   ]
  },
  {
   "cell_type": "markdown",
   "metadata": {},
   "source": [
    "## Task 2"
   ]
  },
  {
   "cell_type": "code",
   "execution_count": 2,
   "metadata": {},
   "outputs": [
    {
     "name": "stdout",
     "output_type": "stream",
     "text": [
      "data shape:  (159, 2)\n"
     ]
    },
    {
     "data": {
      "text/html": [
       "<div>\n",
       "<style scoped>\n",
       "    .dataframe tbody tr th:only-of-type {\n",
       "        vertical-align: middle;\n",
       "    }\n",
       "\n",
       "    .dataframe tbody tr th {\n",
       "        vertical-align: top;\n",
       "    }\n",
       "\n",
       "    .dataframe thead th {\n",
       "        text-align: right;\n",
       "    }\n",
       "</style>\n",
       "<table border=\"1\" class=\"dataframe\">\n",
       "  <thead>\n",
       "    <tr style=\"text-align: right;\">\n",
       "      <th></th>\n",
       "      <th>n1</th>\n",
       "      <th>n2</th>\n",
       "    </tr>\n",
       "  </thead>\n",
       "  <tbody>\n",
       "    <tr>\n",
       "      <td>0</td>\n",
       "      <td>11</td>\n",
       "      <td>1</td>\n",
       "    </tr>\n",
       "    <tr>\n",
       "      <td>1</td>\n",
       "      <td>15</td>\n",
       "      <td>1</td>\n",
       "    </tr>\n",
       "    <tr>\n",
       "      <td>2</td>\n",
       "      <td>16</td>\n",
       "      <td>1</td>\n",
       "    </tr>\n",
       "    <tr>\n",
       "      <td>3</td>\n",
       "      <td>41</td>\n",
       "      <td>1</td>\n",
       "    </tr>\n",
       "    <tr>\n",
       "      <td>4</td>\n",
       "      <td>43</td>\n",
       "      <td>1</td>\n",
       "    </tr>\n",
       "  </tbody>\n",
       "</table>\n",
       "</div>"
      ],
      "text/plain": [
       "   n1  n2\n",
       "0  11   1\n",
       "1  15   1\n",
       "2  16   1\n",
       "3  41   1\n",
       "4  43   1"
      ]
     },
     "execution_count": 2,
     "metadata": {},
     "output_type": "execute_result"
    }
   ],
   "source": [
    "# Import data set\n",
    "number_nodes = 62\n",
    "\n",
    "df = pd.read_csv('t2_dolphins.txt', sep=\"\\s+\", header=None, names=[\"n1\", \"n2\"]) #\n",
    "print(\"data shape: \", df.shape)\n",
    "df.head()"
   ]
  },
  {
   "cell_type": "markdown",
   "metadata": {},
   "source": [
    "### Task 2 a)"
   ]
  },
  {
   "cell_type": "markdown",
   "metadata": {},
   "source": [
    "<div class=\"alert alert-success\">\n",
    "<b>Questions</b> \n",
    "\n",
    "* In this task only undirected graphs are considered, since the professors confirmed that only undirected graphs need to be analyzed.\n",
    "* For undirected graphs, the notion of density of the subgraph is the average degree of the subgraph.\n",
    "* First thought:\n",
    "    * Search node with highest degree\n",
    "    * of all neighbors search node with highest degree and add it to the subgraphs\n",
    "    * out of all current nodes in the subgraph find neighbor with highest degree and add it to the subgraph\n",
    "* However, the paper 'Greedy Approximation Algortihms for Finding Dense Components in a Graph' by Moses Charikar analyzes another algortihm that is more efficent and promises better results:\n",
    "    * Given a number a set of vertices that build a graph, remove in every step the vertice with lowest degree\n",
    "    * Calculate in each step the density and store for each step the density and vertices of used subgraph\n",
    "    * Do that till all nodes are deleted\n",
    "    * return subgraph with highest density\n",
    "\n",
    "</div>"
   ]
  },
  {
   "cell_type": "markdown",
   "metadata": {},
   "source": [
    "### Task 2 b)"
   ]
  },
  {
   "cell_type": "code",
   "execution_count": 41,
   "metadata": {},
   "outputs": [],
   "source": [
    "def calculate_density(subgraph):\n",
    "    \"\"\" Calculate density of subgraph according to formula given in task description\n",
    "    \"\"\"\n",
    "    number_edges = subgraph.shape[0]\n",
    "    number_nodes = len(np.unique(subgraph))\n",
    "    \n",
    "    density = number_edges / number_nodes\n",
    "    \n",
    "    return density\n",
    "\n",
    "def greedy_dense_subgraph(graph):\n",
    "    \"\"\" Greedy algorithm to find a subgraph with good density\n",
    "    \"\"\"\n",
    "    number_nodes = len(np.unique(graph))\n",
    "    current_subgraph = graph\n",
    "    subgraph_density_history = []  # keep track of subraphs and their density score\n",
    "    density_score_history = []\n",
    "    number_edges_history = []\n",
    "    \n",
    "    while (number_nodes > 0):\n",
    "        \n",
    "        # calculate density\n",
    "        density_score = calculate_density(current_subgraph)\n",
    "        subgraph_density_history.append((density_score, current_subgraph))\n",
    "        density_score_history.append(density_score)\n",
    "        number_edges_history.append(current_subgraph.shape[0])\n",
    "        \n",
    "        # delete node with lowest degree\n",
    "        nodes, counts = np.unique(current_subgraph, return_counts=True)\n",
    "        idx_lowest_degree = np.argmin(counts)\n",
    "        node_lowest_degree = nodes[idx_lowest_degree]\n",
    "        \n",
    "        new_subgraph = []\n",
    "        for edge in current_subgraph:  # loop through all edges\n",
    "            if (node_lowest_degree not in edge):\n",
    "                new_subgraph.append(edge)\n",
    "            \n",
    "        \n",
    "        current_subgraph = np.array(new_subgraph)\n",
    "        number_nodes = len(np.unique(current_subgraph))\n",
    "        \n",
    "    # identify subgraph with highest density\n",
    "    densities = [density for (density, subgraph) in subgraph_density_history]\n",
    "    #print(\"densities\", densities)\n",
    "    max_ids = np.argmax(densities)\n",
    "    (max_density_score, subgraph) = subgraph_density_history[max_ids]\n",
    "    \n",
    "\n",
    "    return max_density_score, subgraph, density_score_history, number_edges_history\n"
   ]
  },
  {
   "cell_type": "code",
   "execution_count": 42,
   "metadata": {},
   "outputs": [
    {
     "name": "stdout",
     "output_type": "stream",
     "text": [
      "Highest density score:  3.0277777777777777\n",
      "Number of edges:  109\n",
      "Number of nodes:  36\n"
     ]
    }
   ],
   "source": [
    "graph = df.to_numpy()\n",
    "\n",
    "density_score, subgraph, density_score_history, number_edges_history = greedy_dense_subgraph(graph)\n",
    "print(\"Highest density score: \", density_score)\n",
    "print(\"Number of edges: \", subgraph.shape[0])\n",
    "print(\"Number of nodes: \", len(np.unique(subgraph)))"
   ]
  },
  {
   "cell_type": "code",
   "execution_count": 48,
   "metadata": {},
   "outputs": [
    {
     "data": {
      "image/png": "[encoded data removed]",
      "text/plain": [
       "<Figure size 432x288 with 1 Axes>"
      ]
     },
     "metadata": {
      "needs_background": "light"
     },
     "output_type": "display_data"
    }
   ],
   "source": [
    "plt.plot(number_edges_history, density_score_history)\n",
    "plt.title(\"Progress of algorithm after every iteration\")\n",
    "plt.xlabel(\"Number of edges\")\n",
    "plt.ylabel(\"Density score\")\n",
    "plt.show()\n",
    "#plt.plot(range(len(density_score)),density_score)"
   ]
  },
  {
   "cell_type": "markdown",
   "metadata": {},
   "source": [
    "<div class=\"alert alert-success\">\n",
    "<b>Questions</b> \n",
    "\n",
    "* The given dolphins dataset is undirected and unweighted, and the implemented algorithm is adjusted to that\n",
    "\n",
    "</div>"
   ]
  },
  {
   "cell_type": "markdown",
   "metadata": {},
   "source": [
    "## Task 3"
   ]
  },
  {
   "cell_type": "markdown",
   "metadata": {},
   "source": [
    "Since we only needed to do 4 out of 5 tasks, I decided to leave out Task 3."
   ]
  },
  {
   "cell_type": "markdown",
   "metadata": {},
   "source": [
    "## Task 4"
   ]
  },
  {
   "cell_type": "code",
   "execution_count": 74,
   "metadata": {},
   "outputs": [
    {
     "data": {
      "text/html": [
       "<div>\n",
       "<style scoped>\n",
       "    .dataframe tbody tr th:only-of-type {\n",
       "        vertical-align: middle;\n",
       "    }\n",
       "\n",
       "    .dataframe tbody tr th {\n",
       "        vertical-align: top;\n",
       "    }\n",
       "\n",
       "    .dataframe thead th {\n",
       "        text-align: right;\n",
       "    }\n",
       "</style>\n",
       "<table border=\"1\" class=\"dataframe\">\n",
       "  <thead>\n",
       "    <tr style=\"text-align: right;\">\n",
       "      <th></th>\n",
       "      <th>user_id</th>\n",
       "      <th>joke_5</th>\n",
       "      <th>joke_7</th>\n",
       "      <th>joke_8</th>\n",
       "      <th>joke_13</th>\n",
       "      <th>joke_15</th>\n",
       "      <th>joke_16</th>\n",
       "      <th>joke_17</th>\n",
       "      <th>joke_18</th>\n",
       "      <th>joke_19</th>\n",
       "      <th>joke_20</th>\n",
       "      <th>num_positives</th>\n",
       "    </tr>\n",
       "  </thead>\n",
       "  <tbody>\n",
       "    <tr>\n",
       "      <td>0</td>\n",
       "      <td>5013</td>\n",
       "      <td>0</td>\n",
       "      <td>1</td>\n",
       "      <td>0</td>\n",
       "      <td>0</td>\n",
       "      <td>1</td>\n",
       "      <td>0</td>\n",
       "      <td>0</td>\n",
       "      <td>1</td>\n",
       "      <td>1</td>\n",
       "      <td>1</td>\n",
       "      <td>5</td>\n",
       "    </tr>\n",
       "    <tr>\n",
       "      <td>1</td>\n",
       "      <td>10016</td>\n",
       "      <td>0</td>\n",
       "      <td>0</td>\n",
       "      <td>0</td>\n",
       "      <td>1</td>\n",
       "      <td>0</td>\n",
       "      <td>1</td>\n",
       "      <td>1</td>\n",
       "      <td>1</td>\n",
       "      <td>0</td>\n",
       "      <td>1</td>\n",
       "      <td>5</td>\n",
       "    </tr>\n",
       "    <tr>\n",
       "      <td>2</td>\n",
       "      <td>21844</td>\n",
       "      <td>1</td>\n",
       "      <td>1</td>\n",
       "      <td>1</td>\n",
       "      <td>1</td>\n",
       "      <td>1</td>\n",
       "      <td>1</td>\n",
       "      <td>1</td>\n",
       "      <td>1</td>\n",
       "      <td>1</td>\n",
       "      <td>1</td>\n",
       "      <td>10</td>\n",
       "    </tr>\n",
       "    <tr>\n",
       "      <td>3</td>\n",
       "      <td>3403</td>\n",
       "      <td>1</td>\n",
       "      <td>0</td>\n",
       "      <td>0</td>\n",
       "      <td>1</td>\n",
       "      <td>0</td>\n",
       "      <td>1</td>\n",
       "      <td>1</td>\n",
       "      <td>0</td>\n",
       "      <td>1</td>\n",
       "      <td>1</td>\n",
       "      <td>6</td>\n",
       "    </tr>\n",
       "    <tr>\n",
       "      <td>4</td>\n",
       "      <td>23240</td>\n",
       "      <td>0</td>\n",
       "      <td>1</td>\n",
       "      <td>0</td>\n",
       "      <td>1</td>\n",
       "      <td>1</td>\n",
       "      <td>1</td>\n",
       "      <td>1</td>\n",
       "      <td>1</td>\n",
       "      <td>0</td>\n",
       "      <td>1</td>\n",
       "      <td>7</td>\n",
       "    </tr>\n",
       "  </tbody>\n",
       "</table>\n",
       "</div>"
      ],
      "text/plain": [
       "   user_id  joke_5  joke_7  joke_8  joke_13  joke_15  joke_16  joke_17  \\\n",
       "0     5013       0       1       0        0        1        0        0   \n",
       "1    10016       0       0       0        1        0        1        1   \n",
       "2    21844       1       1       1        1        1        1        1   \n",
       "3     3403       1       0       0        1        0        1        1   \n",
       "4    23240       0       1       0        1        1        1        1   \n",
       "\n",
       "   joke_18  joke_19  joke_20  num_positives  \n",
       "0        1        1        1              5  \n",
       "1        1        0        1              5  \n",
       "2        1        1        1             10  \n",
       "3        0        1        1              6  \n",
       "4        1        0        1              7  "
      ]
     },
     "execution_count": 74,
     "metadata": {},
     "output_type": "execute_result"
    }
   ],
   "source": [
    "# load datasets\n",
    "\n",
    "df_train = pd.read_csv(\"t4_jester-800-10.csv\")\n",
    "df_test = pd.read_csv(\"t4_test-800-10.csv\")\n",
    "\n",
    "df_train.head()"
   ]
  },
  {
   "cell_type": "code",
   "execution_count": 76,
   "metadata": {},
   "outputs": [],
   "source": [
    "user_ids = df_train[\"user_id\"].values\n",
    "joke_names = df_train.columns.values"
   ]
  },
  {
   "cell_type": "code",
   "execution_count": 80,
   "metadata": {},
   "outputs": [],
   "source": [
    "# Create bi-partite graph\n",
    "B = nx.Graph()\n",
    "# Add nodes with the node attribute \"bipartite\"\n",
    "B.add_nodes_from(user_ids, bipartite=0)\n",
    "B.add_nodes_from(joke_names, bipartite=1)\n",
    "# Add edges only between nodes of opposite node sets\n",
    "\n",
    "set_of_edges = []\n",
    "\n",
    "for user in user_ids:\n",
    "    row = df_train.loc[df_train['user_id'] == user]\n",
    "    for joke in joke_names:\n",
    "        like = int(row[joke])\n",
    "        if (like == 1):  # add edge to the graph\n",
    "            set_of_edges.append((user, joke))\n",
    "        \n",
    "B.add_edges_from(set_of_edges)"
   ]
  },
  {
   "cell_type": "code",
   "execution_count": null,
   "metadata": {},
   "outputs": [],
   "source": [
    "# calculate simrank, everyone with everyone\n",
    "#sim = nx.simrank_similarity(B)"
   ]
  },
  {
   "cell_type": "code",
   "execution_count": null,
   "metadata": {},
   "outputs": [],
   "source": [
    "users_sorted = sorted(user_ids)\n",
    "\n",
    "lol = [[sim[u][v] for v in users_sorted] for u in users_sorted]\n",
    "sim_array = np.array(lol)\n",
    "sim_array"
   ]
  },
  {
   "cell_type": "markdown",
   "metadata": {},
   "source": [
    "Explanation:\n",
    "\n",
    "Unfortunately, I couldn't finish this task because I underestimated the computation time of the simrank algorithm. Only a few steps are missing. So when the calculating of the SimRank finishes, we get a dictionary that contains for each node the similarity score to every other node. Therefore there are dictionaries within a dictionary. We get an n x n matrix. Then we search for the test nodes. For each test node get the highest value in each row which is not the same node. So we can set the diagonal to zero to make sure this doesn't happen. With np.argmax() we the index with the node of the highest similarity score. Then we check which jokes the most similar user liked that haven't been liked so far from the test user and recommend these jokes to the test user.\n",
    "\n"
   ]
  },
  {
   "cell_type": "markdown",
   "metadata": {},
   "source": [
    "<div class=\"alert alert-success\">\n",
    "<b>Questions</b> \n",
    "\n",
    "* We use collaborative filtering, because we want to give recommendations based on similar users they have watched, what they liked and therefore what could be recommended to the other person.\n",
    "* Two users are similar if they watched and liked similar movies. Hence, it is very likely that a movie liked by User 1 but not yet watched by User 2, User 2 will also very likely will enjoy.\n",
    "* Therefore, the assumption we use: The user probably likes what other similar users have liked.\n",
    "\n",
    "</div>"
   ]
  },
  {
   "cell_type": "markdown",
   "metadata": {},
   "source": [
    "## Task 5"
   ]
  },
  {
   "cell_type": "markdown",
   "metadata": {},
   "source": [
    "### Task 5 a)"
   ]
  },
  {
   "cell_type": "markdown",
   "metadata": {},
   "source": [
    "#### Without preprocessing"
   ]
  },
  {
   "cell_type": "markdown",
   "metadata": {},
   "source": [
    "Data collection"
   ]
  },
  {
   "cell_type": "code",
   "execution_count": 5,
   "metadata": {},
   "outputs": [],
   "source": [
    "# get movie reviews data\n",
    "documents = [(list(movie_reviews.words(fileid)), category)\n",
    "              for category in movie_reviews.categories()\n",
    "              for fileid in movie_reviews.fileids(category)]\n",
    "random.shuffle(documents)\n",
    "#print(documents[:1])\n",
    "#documents = np.array(documents)"
   ]
  },
  {
   "cell_type": "markdown",
   "metadata": {},
   "source": [
    "Data preprocessing\n",
    "* Remove stopwords\n",
    "* perform stemming"
   ]
  },
  {
   "cell_type": "code",
   "execution_count": 6,
   "metadata": {},
   "outputs": [
    {
     "name": "stdout",
     "output_type": "stream",
     "text": [
      "['plot', ':', 'two', 'teen', 'couples']\n",
      "0.79\n",
      "Most Informative Features\n",
      "       contains(stellan) = True              pos : neg    =      8.2 : 1.0\n",
      " contains(unimaginative) = True              neg : pos    =      7.8 : 1.0\n",
      "    contains(schumacher) = True              neg : pos    =      7.5 : 1.0\n",
      "     contains(atrocious) = True              neg : pos    =      6.7 : 1.0\n",
      "        contains(turkey) = True              neg : pos    =      6.7 : 1.0\n",
      "\n",
      "\n"
     ]
    }
   ],
   "source": [
    "# calculate frequency of words\n",
    "all_words = nltk.FreqDist(w.lower() for w in movie_reviews.words())\n",
    "word_features = list(all_words)[:2000]  # first 2000 most frequent words; ordered by frequency\n",
    "print(word_features[:5])  # first five most frequent words\n",
    "\n",
    "\n",
    "def document_features(document):\n",
    "    document_words = set(document)\n",
    "    features = {}\n",
    "    for word in word_features:\n",
    "        features['contains({})'.format(word)] = (word in document_words)\n",
    "    return features\n",
    "\n",
    "# Feature extraction and training:\n",
    "featuresets = [(document_features(d), c) for (d,c) in documents] # c: positive or negative, d: words\n",
    "train_set, test_set = featuresets[100:], featuresets[:100]\n",
    "classifier = nltk.NaiveBayesClassifier.train(train_set)\n",
    "#classifier = SklearnClassifier(SVC(), sparse=False).train(train_set)\n",
    "\n",
    "# Use of classifier:\n",
    "\n",
    "print(nltk.classify.accuracy(classifier, test_set))\n",
    "\n",
    "classifier.show_most_informative_features(5)\n",
    "\n",
    "print()\n",
    "print()"
   ]
  },
  {
   "cell_type": "markdown",
   "metadata": {},
   "source": [
    "#### With preprocessing"
   ]
  },
  {
   "cell_type": "code",
   "execution_count": 7,
   "metadata": {},
   "outputs": [],
   "source": [
    "# get movie reviews data\n",
    "documents = [(list(movie_reviews.words(fileid)), category)\n",
    "              for category in movie_reviews.categories()\n",
    "              for fileid in movie_reviews.fileids(category)]\n",
    "random.shuffle(documents)\n",
    "#print(documents[:1])\n",
    "#documents = np.array(documents)"
   ]
  },
  {
   "cell_type": "markdown",
   "metadata": {},
   "source": [
    "Data preprocessing\n",
    "* Remove stopwords\n",
    "* perform stemming"
   ]
  },
  {
   "cell_type": "code",
   "execution_count": 8,
   "metadata": {},
   "outputs": [
    {
     "name": "stdout",
     "output_type": "stream",
     "text": [
      "After stemming:\n"
     ]
    }
   ],
   "source": [
    "# stemming\n",
    "porter = PorterStemmer()\n",
    "stemmed_documents = []\n",
    "for (d,c) in documents:\n",
    "    stemmed_documents.append(([porter.stem(j) for j in d], c))\n",
    "print('After stemming:')\n"
   ]
  },
  {
   "cell_type": "code",
   "execution_count": 9,
   "metadata": {},
   "outputs": [],
   "source": [
    "# stop words removal and punctation removal\n",
    "stop_words = set(stopwords.words('english'))\n",
    "# We include the punctation in the stop words set.\n",
    "punctation = set(\"!”#$%&’()*+,-./:;<=>?@[\\]^_`{|}~\\\"\\'\")\n",
    "stop_words.update(punctation)\n",
    "stop_words.add(\"...\")\n",
    "\n",
    "#print('Stop words that will get removed:')\n",
    "#print(stop_words)\n",
    "#print()\n",
    "\n",
    "filtered_documents = []    \n",
    "for (d,c) in stemmed_documents: \n",
    "    filtered_documents.append(([word for word in d if word not in stop_words], c))"
   ]
  },
  {
   "cell_type": "code",
   "execution_count": 10,
   "metadata": {},
   "outputs": [
    {
     "name": "stdout",
     "output_type": "stream",
     "text": [
      "['robin', 'william', 'comed', 'genu', 'one']\n",
      "0.8\n",
      "Most Informative Features\n",
      "      contains(outstand) = True              pos : neg    =     13.4 : 1.0\n",
      "          contains(plod) = True              neg : pos    =     13.1 : 1.0\n",
      "      contains(furnitur) = True              neg : pos    =      7.0 : 1.0\n",
      "       contains(sputter) = True              neg : pos    =      7.0 : 1.0\n",
      "  contains(breakthrough) = True              pos : neg    =      7.0 : 1.0\n"
     ]
    }
   ],
   "source": [
    "# calculate frequency of words\n",
    "all_words_documents = []\n",
    "for (d,c) in filtered_documents:\n",
    "    for word in d:\n",
    "        all_words_documents.append(word)\n",
    "\n",
    "all_words = nltk.FreqDist(w.lower() for w in all_words_documents)\n",
    "word_features = list(all_words)[:2000]  # first 2000 most frequent words; ordered by frequency\n",
    "print(word_features[:5])  # first five most frequent words\n",
    "\n",
    "\n",
    "def document_features(document):\n",
    "    document_words = set(document)\n",
    "    features = {}\n",
    "    for word in word_features:\n",
    "        features['contains({})'.format(word)] = (word in document_words)\n",
    "    return features\n",
    "\n",
    "# Feature extraction and training:\n",
    "featuresets = [(document_features(d), c) for (d,c) in filtered_documents] # c: positive or negative, d: words\n",
    "train_set, test_set = featuresets[100:], featuresets[:100]\n",
    "classifier = nltk.NaiveBayesClassifier.train(train_set)\n",
    "#classifier = SklearnClassifier(SVC(), sparse=False).train(train_set)\n",
    "\n",
    "# Use of classifier:\n",
    "\n",
    "print(nltk.classify.accuracy(classifier, test_set))\n",
    "\n",
    "classifier.show_most_informative_features(5)"
   ]
  },
  {
   "cell_type": "markdown",
   "metadata": {},
   "source": [
    "<div class=\"alert alert-success\">\n",
    "<b>Questions</b> \n",
    "\n",
    "Results without preprocessing:\n",
    "* Naive Bayes Classifier: 0.77\n",
    "* Support Vector Classifier: 0.77\n",
    "\n",
    "    \n",
    "Results with preprocessing (stemming and removal of stopwords):\n",
    "* Naive Bayes Classifier: 0.78\n",
    "* Support Vector Classifier: 0.8\n",
    "    \n",
    "Results and Interpretation:\n",
    "* The results get slightly better\n",
    "* Only important features were put into considertion\n",
    "* Deletion of stopwards and punctuation\n",
    "</div>"
   ]
  },
  {
   "cell_type": "markdown",
   "metadata": {},
   "source": [
    "### Task 5 b)"
   ]
  },
  {
   "cell_type": "markdown",
   "metadata": {},
   "source": [
    "#### Replace words by hypernym"
   ]
  },
  {
   "cell_type": "code",
   "execution_count": 11,
   "metadata": {},
   "outputs": [],
   "source": [
    "# get movie reviews data\n",
    "documents = [(list(movie_reviews.words(fileid)), category)\n",
    "              for category in movie_reviews.categories()\n",
    "              for fileid in movie_reviews.fileids(category)]\n",
    "random.shuffle(documents)\n",
    "#print(documents[:1])\n",
    "#documents = np.array(documents)"
   ]
  },
  {
   "cell_type": "markdown",
   "metadata": {},
   "source": [
    "Data preprocessing\n",
    "* Remove stopwords"
   ]
  },
  {
   "cell_type": "code",
   "execution_count": 12,
   "metadata": {},
   "outputs": [],
   "source": [
    "# stop words removal and punctation removal\n",
    "stop_words = set(stopwords.words('english'))\n",
    "# We include the punctation in the stop words set.\n",
    "punctation = set(\"!”#$%&’()*+,-./:;<=>?@[\\]^_`{|}~\\\"\\'\")\n",
    "stop_words.update(punctation)\n",
    "stop_words.add(\"...\")\n",
    "\n",
    "filtered_documents = []    \n",
    "for (d,c) in documents: \n",
    "    filtered_documents.append(([word for word in d if word not in stop_words], c))"
   ]
  },
  {
   "cell_type": "code",
   "execution_count": 13,
   "metadata": {},
   "outputs": [],
   "source": [
    "# Replace words with hypernym\n",
    "hypernym_documents = []\n",
    "for (d,c) in filtered_documents:\n",
    "    hypernym_array = []\n",
    "    for word in d:\n",
    "        \n",
    "        synsets = wn.synsets(word)  # get all sysnsets\n",
    "        if (synsets == []):\n",
    "            name = word\n",
    "        else:\n",
    "            first_synset = synsets[0]  # choose first synset\n",
    "            hypernyms = first_synset.hypernyms()  # get all hypernyms of first synset\n",
    "            if (hypernyms == []):\n",
    "                name = word\n",
    "            else:\n",
    "                hypernym = hypernyms[0]  # choose first hyernym\n",
    "                lemmas = hypernym.lemmas()  # get all lemmas\n",
    "                lemma = lemmas[0]  # choose first lemma\n",
    "                \n",
    "                name = lemma.name()  # get name of lemma\n",
    "        \n",
    "        \n",
    "        hypernym_array.append(name)\n",
    "        \n",
    "    hypernym_documents.append( (hypernym_array, c) )"
   ]
  },
  {
   "cell_type": "markdown",
   "metadata": {},
   "source": [
    "Feature engineering"
   ]
  },
  {
   "cell_type": "code",
   "execution_count": 14,
   "metadata": {},
   "outputs": [
    {
     "name": "stdout",
     "output_type": "stream",
     "text": [
      "['steve', 'martin', 'act', 'increase', 'leisure']\n",
      "0.76\n",
      "Most Informative Features\n",
      "     contains(ludicrous) = True              neg : pos    =     15.2 : 1.0\n",
      "   contains(outstanding) = True              pos : neg    =     11.1 : 1.0\n",
      "    contains(incoherent) = True              neg : pos    =      9.1 : 1.0\n",
      "        contains(feeble) = True              neg : pos    =      7.7 : 1.0\n",
      "      contains(believer) = True              pos : neg    =      6.9 : 1.0\n"
     ]
    }
   ],
   "source": [
    "# calculate frequency of words\n",
    "all_words_documents = []\n",
    "for (d,c) in hypernym_documents:\n",
    "    for word in d:\n",
    "        all_words_documents.append(word)\n",
    "\n",
    "all_words = nltk.FreqDist(w.lower() for w in all_words_documents)\n",
    "word_features = list(all_words)[:2000]  # first 2000 most frequent words; ordered by frequency\n",
    "print(word_features[:5])  # first five most frequent words\n",
    "\n",
    "\n",
    "def document_features(document):\n",
    "    document_words = set(document)\n",
    "    features = {}\n",
    "    for word in word_features:\n",
    "        features['contains({})'.format(word)] = (word in document_words)\n",
    "    return features\n",
    "\n",
    "# Feature extraction and training:\n",
    "featuresets = [(document_features(d), c) for (d,c) in hypernym_documents] # c: positive or negative, d: words\n",
    "train_set, test_set = featuresets[100:], featuresets[:100]\n",
    "classifier = nltk.NaiveBayesClassifier.train(train_set)\n",
    "#classifier = SklearnClassifier(SVC(), sparse=False).train(train_set)\n",
    "\n",
    "# Use of classifier:\n",
    "\n",
    "print(nltk.classify.accuracy(classifier, test_set))\n",
    "\n",
    "classifier.show_most_informative_features(5)"
   ]
  },
  {
   "cell_type": "markdown",
   "metadata": {},
   "source": [
    "<div class=\"alert alert-success\">\n",
    "<b>Questions</b> \n",
    "\n",
    "Results:\n",
    "* Naive Bayes Classifier: 0.81\n",
    "* Support Vector Classifier: 0.8\n",
    "    \n",
    "Results and Interpretation:\n",
    "* For task b) no stemming, because wordnet synset and hypernyms work worse on stemmed words. For instance, wordnet works well on wn.synsets('happiest') or wn.synsets('happier'), but not on stemmed word of happy which is wn.synsets('happi').\n",
    "* The results improved again slightly in the case of Naive Bayes Classifier to 0.81\n",
    "* makes absolutely sense since we replace words with similar meaning to the same word\n",
    "\n",
    "\n",
    "\n",
    "\n",
    "\n",
    "</div>"
   ]
  },
  {
   "cell_type": "markdown",
   "metadata": {},
   "source": [
    "#### Add hypernyms of words"
   ]
  },
  {
   "cell_type": "code",
   "execution_count": 15,
   "metadata": {},
   "outputs": [],
   "source": [
    "# get movie reviews data\n",
    "documents = [(list(movie_reviews.words(fileid)), category)\n",
    "              for category in movie_reviews.categories()\n",
    "              for fileid in movie_reviews.fileids(category)]\n",
    "random.shuffle(documents)\n",
    "#print(documents[:1])\n",
    "#documents = np.array(documents)"
   ]
  },
  {
   "cell_type": "markdown",
   "metadata": {},
   "source": [
    "Data preprocessing\n",
    "* Remove stopwords"
   ]
  },
  {
   "cell_type": "code",
   "execution_count": 16,
   "metadata": {},
   "outputs": [],
   "source": [
    "# stop words removal and punctation removal\n",
    "stop_words = set(stopwords.words('english'))\n",
    "# We include the punctation in the stop words set.\n",
    "punctation = set(\"!”#$%&’()*+,-./:;<=>?@[\\]^_`{|}~\\\"\\'\")\n",
    "stop_words.update(punctation)\n",
    "stop_words.add(\"...\")\n",
    "\n",
    "filtered_documents = []    \n",
    "for (d,c) in documents: \n",
    "    filtered_documents.append(([word for word in d if word not in stop_words], c))"
   ]
  },
  {
   "cell_type": "code",
   "execution_count": 17,
   "metadata": {},
   "outputs": [],
   "source": [
    "# Replace words with hypernym\n",
    "hypernym_documents = []\n",
    "for (d,c) in filtered_documents:\n",
    "    hypernym_array = []\n",
    "    for word in d:\n",
    "        hypernym_array.append(word)\n",
    "        \n",
    "        synsets = wn.synsets(word)  # get all sysnsets\n",
    "        if (synsets == []):\n",
    "            continue\n",
    "        else:\n",
    "            first_synset = synsets[0]  # choose first synset\n",
    "            hypernyms = first_synset.hypernyms()  # get all hypernyms of first synset\n",
    "            if (hypernyms == []):\n",
    "                continue\n",
    "            else:\n",
    "                hypernym = hypernyms[0]  # choose first hyernym\n",
    "                lemmas = hypernym.lemmas()  # get all lemmas\n",
    "                lemma = lemmas[0]  # choose first lemma\n",
    "                name = lemma.name()  # get name of lemma\n",
    "        \n",
    "                hypernym_array.append(name)\n",
    "        \n",
    "    hypernym_documents.append( (hypernym_array, c) )"
   ]
  },
  {
   "cell_type": "markdown",
   "metadata": {},
   "source": [
    "Feature engineering"
   ]
  },
  {
   "cell_type": "code",
   "execution_count": 18,
   "metadata": {},
   "outputs": [
    {
     "name": "stdout",
     "output_type": "stream",
     "text": [
      "['tempe', 'mills', 'cinema', 'medium', 'az']\n",
      "0.72\n",
      "Most Informative Features\n",
      "      contains(bothered) = True              neg : pos    =      9.7 : 1.0\n",
      "     contains(strongest) = True              pos : neg    =      9.0 : 1.0\n",
      "       contains(winslet) = True              pos : neg    =      7.7 : 1.0\n",
      "    contains(cronenberg) = True              pos : neg    =      7.0 : 1.0\n",
      "          contains(gump) = True              pos : neg    =      7.0 : 1.0\n"
     ]
    }
   ],
   "source": [
    "# calculate frequency of words\n",
    "all_words_documents = []\n",
    "for (d,c) in hypernym_documents:\n",
    "    for word in d:\n",
    "        all_words_documents.append(word)\n",
    "\n",
    "all_words = nltk.FreqDist(w.lower() for w in all_words_documents)\n",
    "word_features = list(all_words)[:2000]  # first 2000 most frequent words; ordered by frequency\n",
    "print(word_features[:5])  # first five most frequent words\n",
    "\n",
    "\n",
    "def document_features(document):\n",
    "    document_words = set(document)\n",
    "    features = {}\n",
    "    for word in word_features:\n",
    "        features['contains({})'.format(word)] = (word in document_words)\n",
    "    return features\n",
    "\n",
    "# Feature extraction and training:\n",
    "featuresets = [(document_features(d), c) for (d,c) in hypernym_documents] # c: positive or negative, d: words\n",
    "train_set, test_set = featuresets[100:], featuresets[:100]\n",
    "classifier = nltk.NaiveBayesClassifier.train(train_set)\n",
    "#classifier = SklearnClassifier(SVC(), sparse=False).train(train_set)\n",
    "\n",
    "# Use of classifier:\n",
    "\n",
    "print(nltk.classify.accuracy(classifier, test_set))\n",
    "\n",
    "classifier.show_most_informative_features(5)"
   ]
  },
  {
   "cell_type": "markdown",
   "metadata": {},
   "source": [
    "<div class=\"alert alert-success\">\n",
    "<b>Questions</b> \n",
    "\n",
    "Results:\n",
    "* Naive Bayes Classifier: 0.73\n",
    "* Support Vector Classifier: 0.76\n",
    "    \n",
    "Results and Interpretation:\n",
    "* For task b) no stemming, because wordnet synset and hypernyms work worse on stemmed words. For instance, wordnet works well on wn.synsets('happiest') or wn.synsets('happier'), but not on stemmed word of happy which is wn.synsets('happi').\n",
    "* The results improved got worse for both classifiers while the scores dropped to 0.73 and 0.76.\n",
    "* That makes kind of sense, because not all words have hypernyms. So imagine for instance not important words have hypernyms while important words don't have hypernyms. So we add the hypernyms of not important words. Consequently, not important words are more frequent and have more weight. That results in a worse classification score. Therefore, it is better to replace the words by its hypernym.\n",
    "\n",
    "\n",
    "\n",
    "\n",
    "\n",
    "</div>"
   ]
  },
  {
   "cell_type": "markdown",
   "metadata": {},
   "source": [
    "-------------------------------"
   ]
  },
  {
   "cell_type": "code",
   "execution_count": null,
   "metadata": {},
   "outputs": [],
   "source": []
  }
 ],
 "metadata": {
  "kernelspec": {
   "display_name": "Python 3",
   "language": "python",
   "name": "python3"
  },
  "language_info": {
   "codemirror_mode": {
    "name": "ipython",
    "version": 3
   },
   "file_extension": ".py",
   "mimetype": "text/x-python",
   "name": "python",
   "nbconvert_exporter": "python",
   "pygments_lexer": "ipython3",
   "version": "3.7.4"
  }
 },
 "nbformat": 4,
 "nbformat_minor": 4
}
